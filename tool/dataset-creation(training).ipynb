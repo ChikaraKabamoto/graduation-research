{
  "nbformat": 4,
  "nbformat_minor": 0,
  "metadata": {
    "colab": {
      "name": "学習用データセット作成",
      "provenance": [],
      "private_outputs": true,
      "collapsed_sections": [
        "2bBx54y9-eiI",
        "qrEW0uXNQsBC",
        "BLJ0C6qpG-3E"
      ]
    },
    "kernelspec": {
      "name": "python3",
      "display_name": "Python 3"
    }
  },
  "cells": [
    {
      "cell_type": "markdown",
      "metadata": {
        "id": "hruJiQm4ap-5"
      },
      "source": [
        "#Google Drive マウント"
      ]
    },
    {
      "cell_type": "code",
      "metadata": {
        "id": "oWVVKhEt7Njc"
      },
      "source": [
        "!git clone \"https://github.com/Hina1008/create_dataset\""
      ],
      "execution_count": null,
      "outputs": []
    },
    {
      "cell_type": "code",
      "metadata": {
        "id": "q2oXfndlsML-"
      },
      "source": [
        "from google.colab import drive\n",
        "drive.mount('/content/drive')"
      ],
      "execution_count": null,
      "outputs": []
    },
    {
      "cell_type": "code",
      "metadata": {
        "id": "ZaMFHzetJow4"
      },
      "source": [
        "import time"
      ],
      "execution_count": null,
      "outputs": []
    },
    {
      "cell_type": "markdown",
      "metadata": {
        "id": "W09vNOkVOaVN"
      },
      "source": [
        "#正面画像を抽出(trainに移動する前にimport)"
      ]
    },
    {
      "cell_type": "code",
      "metadata": {
        "id": "K3Aig28AjB4B"
      },
      "source": [
        "import os\n",
        "import cv2\n",
        "import matplotlib.pyplot as plt\n",
        "import numpy as np\n",
        "from PIL import Image\n",
        "import torch\n",
        "import re\n",
        "from google.colab.patches import cv2_imshow\n",
        "import shutil"
      ],
      "execution_count": null,
      "outputs": []
    },
    {
      "cell_type": "markdown",
      "metadata": {
        "id": "QDYN_BIBauDE"
      },
      "source": [
        "#ディレクトリ作成,移動"
      ]
    },
    {
      "cell_type": "code",
      "metadata": {
        "id": "AfZhDxVOaxUE"
      },
      "source": [
        "cd /content/drive/My Drive/train"
      ],
      "execution_count": null,
      "outputs": []
    },
    {
      "cell_type": "markdown",
      "metadata": {
        "id": "9LMosE5A9L5p"
      },
      "source": [
        "##画像が入っているフォルダ"
      ]
    },
    {
      "cell_type": "code",
      "metadata": {
        "id": "utHgFKEi78Fu"
      },
      "source": [
        "#最初の準備としてこれを行う\n",
        "dir =os.listdir()\n",
        "\n",
        "file_num = []\n",
        "for  dn  in dir:\n",
        "  if bool(re.search(r'\\d',dn)):\n",
        "    file_num.append(int(dn))\n",
        "\n",
        "file_num.sort()\n",
        "for fn in file_num:\n",
        "  print(fn)"
      ],
      "execution_count": null,
      "outputs": []
    },
    {
      "cell_type": "markdown",
      "metadata": {
        "id": "n5ceoBc79QXe"
      },
      "source": [
        "###画像ファイルを抽出"
      ]
    },
    {
      "cell_type": "code",
      "metadata": {
        "id": "Md0Q3g7T8a0v"
      },
      "source": [
        "im_list = []\n",
        "min=8100#対象画像の最初のディレクトリ番号\n",
        "max=10000#対象画像の最後のディレクトリ番号\n",
        "for i in range(min,max):\n",
        "  im_path = str(file_num[i])+\"/\"\n",
        "  #print(os.listdir(im_path))\n",
        "  dircont = os.listdir(im_path)\n",
        "  for im in dircont:\n",
        "    if \"mask\" not in im and bool(re.search(r'\\d',im)) and \"jpg\" in im:\n",
        "      #print(im)\n",
        "      im_list.append(im_path + im)\n",
        "      print(im_path+im)\n",
        "#for im in im_list:\n",
        "  #img = cv2.imread(im)\n",
        "  #cv2_imshow(img)\n",
        "print(len(im_list))"
      ],
      "execution_count": null,
      "outputs": []
    },
    {
      "cell_type": "markdown",
      "metadata": {
        "id": "2bBx54y9-eiI"
      },
      "source": [
        "### セクメンテーション画像の抽出"
      ]
    },
    {
      "cell_type": "code",
      "metadata": {
        "id": "cKbZ1Xap-l2v"
      },
      "source": [
        "seg_list = []\n",
        "for i in range(0,20): \n",
        "  dir2 = str(file_num[i])+\"/\"\n",
        "  #print(os.listdir(dir2))\n",
        "  dircont = os.listdir(dir2)\n",
        "  seg_dir1 = []\n",
        "\n",
        "  for seg in dircont:\n",
        "    if   \"jpg\" not in seg:\n",
        "      #print(seg)\n",
        "      seg_dir1.append(seg)\n",
        "\n",
        "  for sn in seg_dir1:\n",
        "    segdir = os.listdir(dir2 + sn)\n",
        "    #print(segdir)\n",
        "    for segim in segdir:\n",
        "      if \"_vis\" in segim:\n",
        "        print(dir2+sn+\"/\"+segim)\n",
        "        seg_list.append(dir2+sn+\"/\"+segim)\n",
        "        seg = cv2.imread(dir2+sn+\"/\"+segim)\n",
        "        cv2_imshow(seg)"
      ],
      "execution_count": null,
      "outputs": []
    },
    {
      "cell_type": "markdown",
      "metadata": {
        "id": "k2IZQZWbHugb"
      },
      "source": [
        "#正面かつオレンジの服を抽出"
      ]
    },
    {
      "cell_type": "code",
      "metadata": {
        "id": "OflGRzSfF0gB"
      },
      "source": [
        "#opencvで正面を向いている人の画像を抽出し、パスを保存\n",
        "good_face=[]\n",
        "i=0\n",
        "good_count=0\n",
        "bad_count=0\n",
        "good=0\n",
        "for img in im_list:   #画像\n",
        "#for seg in seg_list: #セグメント\n",
        " \n",
        "        #入力画像の表示\n",
        "        #plt.show(plt.imshow(np.asarray(Image.open(in_jpg))))\n",
        " \n",
        "        # 画像の読み込み \n",
        "        image_gs = cv2.imread(img)\n",
        "        #image_gs = cv2.imread(seg)\n",
        " \n",
        "        image_gs= image_gs[0:int(image_gs.shape[0]/3), 0: int(image_gs.shape[1])]\n",
        "        # グレースケールに変換\n",
        "        #image_gs = cv2.cvtColor(image_gs, cv2.COLOR_BGR2GRAY)\n",
        "        # 顔認識用特徴量ファイルを読み込む --- （カスケードファイルのパスを指定）\n",
        "        cascade1 = cv2.CascadeClassifier(\"/content/drive/My Drive/create_dataset/cascade/haarcascade_frontalface_alt.xml\")\n",
        "        cascade2 = cv2.CascadeClassifier(\"/content/drive/My Drive/create_dataset/cascade/haarcascade_frontalface_alt2.xml\")\n",
        "        cascade3 = cv2.CascadeClassifier(\"/content/drive/My Drive/create_dataset/cascade/haarcascade_frontalface_alt_tree.xml\")\n",
        "        cascade4 = cv2.CascadeClassifier(\"/content/drive/My Drive/create_dataset/cascade/haarcascade_frontalface_default.xml\")\n",
        "\n",
        "        # 顔認識の実行\n",
        "        face_list1 = cascade1.detectMultiScale(image_gs,scaleFactor=1.1,minNeighbors=1,minSize=(10,10))\n",
        "        face_list2 = cascade2.detectMultiScale(image_gs,scaleFactor=1.1,minNeighbors=1,minSize=(10,10))\n",
        "        face_list3 = cascade3.detectMultiScale(image_gs,scaleFactor=1.1,minNeighbors=1,minSize=(10,10))\n",
        "        face_list4 = cascade4.detectMultiScale(image_gs,scaleFactor=1.1,minNeighbors=1,minSize=(10,10))\n",
        " \n",
        "        #顔が１つ検出された時\n",
        "        if len(face_list1) ==1 or len(face_list2) ==1 or len(face_list3) ==1 or len(face_list4) ==1:\n",
        "          \n",
        "          #cv2_imshow(image_gs)\n",
        "          #good_face.append(img)\n",
        "          \n",
        "          \n",
        "          if img[1]==\"/\":#フォルダ名1桁\n",
        "            if len(img)==7:\n",
        "              good_face.append(img[:3])\n",
        "              good_count+=1\n",
        "            if len(img)>7:\n",
        "              #print(img[:10])\n",
        "              good_face.append(img[:10])\n",
        "              good_count+=1\n",
        "          elif img[2]==\"/\":#フォルダ名2桁\n",
        "              if len(img)==8:\n",
        "                good_face.append(img[:4])\n",
        "                good_count+=1\n",
        "              if len(img)>8:\n",
        "                #print(img[:10])\n",
        "                good_face.append(img[:11])\n",
        "                good_count+=1\n",
        "          elif img[3]==\"/\":#フォルダ名3桁\n",
        "              if len(img)==9:\n",
        "                good_face.append(img[:5])\n",
        "                good_count+=1\n",
        "              if len(img)>9:\n",
        "                #print(img[:10])\n",
        "                good_face.append(img[:12])\n",
        "                good_count+=1\n",
        "          elif img[4]==\"/\":#フォルダ名4桁\n",
        "              if len(img)==10:\n",
        "                good_face.append(img[:6])\n",
        "                good_count+=1\n",
        "              if len(img)>10:\n",
        "                #print(img[:10])\n",
        "                good_face.append(img[:13])\n",
        "                good_count+=1\n",
        "          elif img[5]==\"/\":#フォルダ名6桁\n",
        "              if len(img)==11:\n",
        "                good_face.append(img[:7])\n",
        "                good_count+=1\n",
        "              if len(img)>11:\n",
        "                #print(img[:10])\n",
        "                good_face.append(img[:14])\n",
        "                good_count+=1\n",
        "        #顔が検出されなかった時\n",
        "        else:\n",
        "          #print(\"no face\")\n",
        "          bad_count+=1\n",
        "        i+=1\n",
        "        print(i)\n",
        "     \n",
        "print(\"good\",good_count,\"bad\",bad_count)        "
      ],
      "execution_count": null,
      "outputs": []
    },
    {
      "cell_type": "code",
      "metadata": {
        "id": "0RBfmAemsOFn"
      },
      "source": [
        "#正面を向いている画像の下ディレクトリ\n",
        "k=0\n",
        "for a in good_face:\n",
        "  print(a)\n",
        "  k+=1\n",
        "print(k)"
      ],
      "execution_count": null,
      "outputs": []
    },
    {
      "cell_type": "markdown",
      "metadata": {
        "id": "qrEW0uXNQsBC"
      },
      "source": [
        "#サーチ\n",
        "\n"
      ]
    },
    {
      "cell_type": "code",
      "metadata": {
        "id": "y4SywL_wKvp4"
      },
      "source": [
        "cd new_persons/person"
      ],
      "execution_count": null,
      "outputs": []
    },
    {
      "cell_type": "code",
      "metadata": {
        "id": "-INdPUPZQ_zX"
      },
      "source": [
        "ex=cv2.imread(\"3290.jpg\")"
      ],
      "execution_count": null,
      "outputs": []
    },
    {
      "cell_type": "code",
      "metadata": {
        "id": "g3qdUYjMLEI5"
      },
      "source": [
        "cd .."
      ],
      "execution_count": null,
      "outputs": []
    },
    {
      "cell_type": "code",
      "metadata": {
        "id": "CNf7_YDyQ8pt"
      },
      "source": [
        "cd train"
      ],
      "execution_count": null,
      "outputs": []
    },
    {
      "cell_type": "code",
      "metadata": {
        "id": "5Xr1krN9QqoT"
      },
      "source": [
        "good_face=[]\n",
        "i=0\n",
        "good_count=0\n",
        "bad_count=0\n",
        "good=0\n",
        "print(ex.shape)\n",
        "ex=ex.transpose(2,0,1)\n",
        "for img in im_list:   #画像\n",
        "#for seg in seg_list: #セグメント\n",
        " \n",
        "        #入力画像の表示\n",
        "        #plt.show(plt.imshow(np.asarray(Image.open(in_jpg))))\n",
        "        #image_gs.transpose(2,1,0)\n",
        "        #ex=ex.transpose(2,0,1)\n",
        "        # 画像の読み込み \n",
        "        image_gs = cv2.imread(img)\n",
        "        #print(img)\n",
        "        image_gs=image_gs.transpose(2,0,1)\n",
        "        \n",
        "        #if ex.all()==image_gs.all():\n",
        "        count=0\n",
        "        for j in range(128):\n",
        "          for k in range(96):\n",
        "            if ex[0][j][k]==image_gs[0][j][k]and ex[1][j][k]==image_gs[1][j][k]and ex[2][j][k]==image_gs[2][j][k] :\n",
        "             count+=1\n",
        "        if count==12288:\n",
        "          print(img)"
      ],
      "execution_count": null,
      "outputs": []
    },
    {
      "cell_type": "markdown",
      "metadata": {
        "id": "cnXM4vmOG71-"
      },
      "source": [
        "#実行"
      ]
    },
    {
      "cell_type": "code",
      "metadata": {
        "id": "qNSES1mPtGZC"
      },
      "source": [
        "#正面を向いている人のセグメンテーションマップを表示＆リストに入力\n",
        "seg_list = []\n",
        "#good_face=str(good_face)+\"segment_vis.png\"\n",
        "for sn in good_face:\n",
        "  sn=sn+\"/segment_vis.png\"\n",
        "  print(sn)\n",
        "  seg_list.append(sn)\n",
        "  #seg = cv2.imread(sn)\n",
        "  #cv2_imshow(seg)"
      ],
      "execution_count": null,
      "outputs": []
    },
    {
      "cell_type": "code",
      "metadata": {
        "id": "DClVWEW1zJ5R"
      },
      "source": [
        "%cd .."
      ],
      "execution_count": null,
      "outputs": []
    },
    {
      "cell_type": "code",
      "metadata": {
        "id": "S0nx9wffGsMQ"
      },
      "source": [
        "save_count=4287\n",
        "count=0\n",
        "#正面を向いている人のセグメンテーションマップの中から更にコートを着ていないかつ腕組をしていないかつ完全に正面を向いているマップを抽出\n",
        "excellent_count=0\n",
        "little_excellent_count=0\n",
        "t1=time.time()\n",
        "for seg_chose in seg_list:\n",
        "  seg_chose=\"train/\"+seg_chose\n",
        "  seg_gs = cv2.imread(seg_chose)#cv2.imreadはBGR\n",
        "  #seg_gs= cv2.cvtColor(seg_gs, cv2.COLOR_BGR2RGB)\n",
        "  seg_arr = np.asarray(seg_gs)\n",
        "  #cv2_imshow(seg_gs)\n",
        "  #print(seg_list[0])\n",
        "  x = torch.from_numpy(seg_arr)\n",
        "  x=x.transpose(0,2)\n",
        "  x=x.transpose(1,2)\n",
        "  x=np.reshape(x,(1,3,256,192))\n",
        "  #print(x.size())\n",
        "  orange_check=0#オレンジ(inner)が含まれているか\n",
        "  orange_seqfin=0#オレンジピクセルが続いているかどうか,腕の遮りを検知するため\n",
        "  blue_check=0#青が含まれているか,青はアウターなため除きたい\n",
        "  oculusion_count=0#オレンジ→水色→オレンジの行数,腕の遮りを検知するため\n",
        "  before=1\n",
        "  final_orange_row=-1#オレンジピクセルがなくなる行,オクルージョンがあるとオレンジ領域が二分割される.\n",
        "  orange_before_exist=0#前の行にオレンジピクセルがあったかどうか\n",
        "  oculusion=0\n",
        "  dame=0\n",
        "  for i in range(256):\n",
        "    orange_seq1=0#seqがつく変数は服と腕がかぶっていないかを判断するための変数\n",
        "    orange_seq2=0\n",
        "\n",
        "    for j in range(192):\n",
        "      if orange_seq2!=1 and x[0][0][i][j]==0 and x[0][1][i][j]==85 and x[0][2][i][j]==255:\n",
        "        orange_check=1\n",
        "        orange_seq1=1\n",
        "        orange_before_exist=1\n",
        "      elif orange_seq1==1 and x[0][0][i][j]>150:\n",
        "        orange_seq2=1\n",
        "      elif orange_seq2==1 and x[0][2][i][j]>240:\n",
        "        orange_seqfin=1\n",
        "        #print(i,j)\n",
        "      if x[0][0][i][j]==221 and x[0][1][i][j]==119 and x[0][2][i][j]==0:\n",
        "        blue_check=1    \n",
        "\n",
        "    if orange_seqfin==1 and before==1:\n",
        "      oculusion_count+=1\n",
        "    if orange_seqfin==1 and before==0:\n",
        "      before=1\n",
        "    if orange_seqfin==0:\n",
        "      before=0\n",
        "    if orange_seq1==0 and orange_before_exist==1: #腕組等をしているとオレンジの領域が二分割されるのでそれを認識する\n",
        "      final_orange_row=i\n",
        "      orange_before_exist=0\n",
        "      oculusion+=1\n",
        "      if oculusion==2:\n",
        "        dame=1\n",
        "      \n",
        "\n",
        "    orange_seqfin=0\n",
        "        \n",
        "  if orange_check==1 and blue_check==0 and oculusion_count<15 and dame!=1:\n",
        "    #cv2_imshow(seg_gs)\n",
        "    #print(\"good!!\")\n",
        "    #print(seg_chose)\n",
        "    excellent_count+=1\n",
        "    person_chose=\"empty\"\n",
        "    #ディレクトリの桁数を/の位置で調べる\n",
        "    if seg_chose[7]==\"/\":\n",
        "      if \"target\" in seg_chose:\n",
        "           person_path=seg_chose[:16]+\".jpg\"\n",
        "           #print(person_path)\n",
        "      else:\n",
        "           person_path=seg_chose[:9]+\".jpg\"\n",
        "           #print(person_path)\n",
        "\n",
        "      cloth_path=seg_chose[:8]+\"target.jpg\"\n",
        "      #print(cloth_path)\n",
        "      seg_path=seg_chose\n",
        "      #print(seg_path)\n",
        "\n",
        "    elif seg_chose[8]==\"/\":\n",
        "        if \"target\" in seg_chose:\n",
        "            person_path=seg_chose[:17]+\".jpg\"\n",
        "            #print(person_path)\n",
        "        else:\n",
        "            person_path=seg_chose[:10]+\".jpg\"\n",
        "            #print(person_path)\n",
        "\n",
        "        cloth_path=seg_chose[:9]+\"target.jpg\"\n",
        "        #print(cloth_path)\n",
        "        seg_path=seg_chose\n",
        "        #print(seg_path)\n",
        "\n",
        "    elif seg_chose[9]==\"/\":\n",
        "        if \"target\" in seg_chose:\n",
        "            person_path=seg_chose[:18]+\".jpg\"\n",
        "            #print(person_path)\n",
        "        else:\n",
        "            person_path=seg_chose[:11]+\".jpg\"\n",
        "            #print(person_path)\n",
        "\n",
        "        cloth_path=seg_chose[:10]+\"target.jpg\"\n",
        "        #print(cloth_path)\n",
        "        seg_path=seg_chose\n",
        "        #print(seg_path)\n",
        "\n",
        "    elif seg_chose[10]==\"/\":\n",
        "        if \"target\" in seg_chose:\n",
        "            person_path=seg_chose[:19]+\".jpg\"\n",
        "            #print(person_path)\n",
        "        else:\n",
        "            person_path=seg_chose[:12]+\".jpg\"\n",
        "            #print(person_path)\n",
        "\n",
        "        cloth_path=seg_chose[:11]+\"target.jpg\"\n",
        "        #print(cloth_path)\n",
        "        seg_path=seg_chose   \n",
        "        #print(seg_path)\n",
        "\n",
        "    elif seg_chose[11]==\"/\":\n",
        "        if \"target\" in seg_chose:\n",
        "            person_path=seg_chose[:20]+\".jpg\"\n",
        "            #print(person_path)\n",
        "        else:\n",
        "            person_path=seg_chose[:13]+\".jpg\"\n",
        "           # print(person_path)\n",
        "\n",
        "        cloth_path=seg_chose[:12]+\"target.jpg\"\n",
        "        #print(cloth_path)\n",
        "        seg_path=seg_chose   \n",
        "        #print(seg_path)\n",
        "    #print(\"-\"*10)\n",
        "    shutil.copy(person_path,f\"new_persons/person/{save_count}.jpg\")\n",
        "    shutil.copy(cloth_path,f\"new_cloths/cloth/{save_count}.jpg\")\n",
        "    shutil.copy(seg_path,f\"new_segmentations/segmentation/{save_count}.jpg\")\n",
        "    print(seg_path,save_count)\n",
        "    save_count+=1\n",
        "    \n",
        "   \n",
        "    \n",
        "  else:\n",
        "    little_excellent_count+=1\n",
        "  \n",
        "  print(count,\"/\",k)\n",
        "  count+=1 \n",
        "  #for i in range(30):\n",
        "  #print(x[0][2][i+84])\n",
        "\n",
        "  #print(x[0][0][100][80])\n",
        "  #print(x[0][1][100][80])\n",
        "  #print(x[0][2][100][80])\n",
        "  #print(x[0][0][100][80])\n",
        "  #print(x[0][1][100][80])\n",
        "  #print(x[0][2][100][80])\n",
        "  #for y in x[0][0]:\n",
        "    #print(y)\n",
        "    #for z in y:\n",
        "      #print(z)\n",
        "      #for  w in z:\n",
        "        #print(w)p\n",
        "print(\"◎\",excellent_count)\n",
        "print(\"△\",little_excellent_count)\n",
        "zzzzz=12\n",
        "t2=time.time()"
      ],
      "execution_count": null,
      "outputs": []
    }
  ]
}