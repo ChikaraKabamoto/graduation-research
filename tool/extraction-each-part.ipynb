{
  "nbformat": 4,
  "nbformat_minor": 0,
  "metadata": {
    "colab": {
      "name": "smis各部位抽出",
      "provenance": [],
      "collapsed_sections": []
    },
    "kernelspec": {
      "display_name": "Python 3",
      "name": "python3"
    },
    "widgets": {
      "application/vnd.jupyter.widget-state+json": {
        "a4931ed5460648c0a59adcc1ea869924": {
          "model_module": "@jupyter-widgets/controls",
          "model_name": "HBoxModel",
          "state": {
            "_view_name": "HBoxView",
            "_dom_classes": [],
            "_model_name": "HBoxModel",
            "_view_module": "@jupyter-widgets/controls",
            "_model_module_version": "1.5.0",
            "_view_count": null,
            "_view_module_version": "1.5.0",
            "box_style": "",
            "layout": "IPY_MODEL_41ad2aa7aecc47cf84c1d23341d68fef",
            "_model_module": "@jupyter-widgets/controls",
            "children": [
              "IPY_MODEL_f408d7acf93f4cfabbe9a5d5a0936ce3",
              "IPY_MODEL_3298978e205b4b46b57b68a84c674971"
            ]
          }
        },
        "41ad2aa7aecc47cf84c1d23341d68fef": {
          "model_module": "@jupyter-widgets/base",
          "model_name": "LayoutModel",
          "state": {
            "_view_name": "LayoutView",
            "grid_template_rows": null,
            "right": null,
            "justify_content": null,
            "_view_module": "@jupyter-widgets/base",
            "overflow": null,
            "_model_module_version": "1.2.0",
            "_view_count": null,
            "flex_flow": null,
            "width": null,
            "min_width": null,
            "border": null,
            "align_items": null,
            "bottom": null,
            "_model_module": "@jupyter-widgets/base",
            "top": null,
            "grid_column": null,
            "overflow_y": null,
            "overflow_x": null,
            "grid_auto_flow": null,
            "grid_area": null,
            "grid_template_columns": null,
            "flex": null,
            "_model_name": "LayoutModel",
            "justify_items": null,
            "grid_row": null,
            "max_height": null,
            "align_content": null,
            "visibility": null,
            "align_self": null,
            "height": null,
            "min_height": null,
            "padding": null,
            "grid_auto_rows": null,
            "grid_gap": null,
            "max_width": null,
            "order": null,
            "_view_module_version": "1.2.0",
            "grid_template_areas": null,
            "object_position": null,
            "object_fit": null,
            "grid_auto_columns": null,
            "margin": null,
            "display": null,
            "left": null
          }
        },
        "f408d7acf93f4cfabbe9a5d5a0936ce3": {
          "model_module": "@jupyter-widgets/controls",
          "model_name": "FloatProgressModel",
          "state": {
            "_view_name": "ProgressView",
            "style": "IPY_MODEL_9854f8170ddf497391aa020c6a0b5153",
            "_dom_classes": [],
            "description": "100%",
            "_model_name": "FloatProgressModel",
            "bar_style": "success",
            "max": 419,
            "_view_module": "@jupyter-widgets/controls",
            "_model_module_version": "1.5.0",
            "value": 419,
            "_view_count": null,
            "_view_module_version": "1.5.0",
            "orientation": "horizontal",
            "min": 0,
            "description_tooltip": null,
            "_model_module": "@jupyter-widgets/controls",
            "layout": "IPY_MODEL_5853a7f5c5ca4af0a5a964078f497a3f"
          }
        },
        "3298978e205b4b46b57b68a84c674971": {
          "model_module": "@jupyter-widgets/controls",
          "model_name": "HTMLModel",
          "state": {
            "_view_name": "HTMLView",
            "style": "IPY_MODEL_25e187604c3d45de9a337f4933a42450",
            "_dom_classes": [],
            "description": "",
            "_model_name": "HTMLModel",
            "placeholder": "​",
            "_view_module": "@jupyter-widgets/controls",
            "_model_module_version": "1.5.0",
            "value": " 419/419 [2:56:17&lt;00:00, 25.24s/it]",
            "_view_count": null,
            "_view_module_version": "1.5.0",
            "description_tooltip": null,
            "_model_module": "@jupyter-widgets/controls",
            "layout": "IPY_MODEL_fbcad33632b44024b7f2fb5601a194c0"
          }
        },
        "9854f8170ddf497391aa020c6a0b5153": {
          "model_module": "@jupyter-widgets/controls",
          "model_name": "ProgressStyleModel",
          "state": {
            "_view_name": "StyleView",
            "_model_name": "ProgressStyleModel",
            "description_width": "initial",
            "_view_module": "@jupyter-widgets/base",
            "_model_module_version": "1.5.0",
            "_view_count": null,
            "_view_module_version": "1.2.0",
            "bar_color": null,
            "_model_module": "@jupyter-widgets/controls"
          }
        },
        "5853a7f5c5ca4af0a5a964078f497a3f": {
          "model_module": "@jupyter-widgets/base",
          "model_name": "LayoutModel",
          "state": {
            "_view_name": "LayoutView",
            "grid_template_rows": null,
            "right": null,
            "justify_content": null,
            "_view_module": "@jupyter-widgets/base",
            "overflow": null,
            "_model_module_version": "1.2.0",
            "_view_count": null,
            "flex_flow": null,
            "width": null,
            "min_width": null,
            "border": null,
            "align_items": null,
            "bottom": null,
            "_model_module": "@jupyter-widgets/base",
            "top": null,
            "grid_column": null,
            "overflow_y": null,
            "overflow_x": null,
            "grid_auto_flow": null,
            "grid_area": null,
            "grid_template_columns": null,
            "flex": null,
            "_model_name": "LayoutModel",
            "justify_items": null,
            "grid_row": null,
            "max_height": null,
            "align_content": null,
            "visibility": null,
            "align_self": null,
            "height": null,
            "min_height": null,
            "padding": null,
            "grid_auto_rows": null,
            "grid_gap": null,
            "max_width": null,
            "order": null,
            "_view_module_version": "1.2.0",
            "grid_template_areas": null,
            "object_position": null,
            "object_fit": null,
            "grid_auto_columns": null,
            "margin": null,
            "display": null,
            "left": null
          }
        },
        "25e187604c3d45de9a337f4933a42450": {
          "model_module": "@jupyter-widgets/controls",
          "model_name": "DescriptionStyleModel",
          "state": {
            "_view_name": "StyleView",
            "_model_name": "DescriptionStyleModel",
            "description_width": "",
            "_view_module": "@jupyter-widgets/base",
            "_model_module_version": "1.5.0",
            "_view_count": null,
            "_view_module_version": "1.2.0",
            "_model_module": "@jupyter-widgets/controls"
          }
        },
        "fbcad33632b44024b7f2fb5601a194c0": {
          "model_module": "@jupyter-widgets/base",
          "model_name": "LayoutModel",
          "state": {
            "_view_name": "LayoutView",
            "grid_template_rows": null,
            "right": null,
            "justify_content": null,
            "_view_module": "@jupyter-widgets/base",
            "overflow": null,
            "_model_module_version": "1.2.0",
            "_view_count": null,
            "flex_flow": null,
            "width": null,
            "min_width": null,
            "border": null,
            "align_items": null,
            "bottom": null,
            "_model_module": "@jupyter-widgets/base",
            "top": null,
            "grid_column": null,
            "overflow_y": null,
            "overflow_x": null,
            "grid_auto_flow": null,
            "grid_area": null,
            "grid_template_columns": null,
            "flex": null,
            "_model_name": "LayoutModel",
            "justify_items": null,
            "grid_row": null,
            "max_height": null,
            "align_content": null,
            "visibility": null,
            "align_self": null,
            "height": null,
            "min_height": null,
            "padding": null,
            "grid_auto_rows": null,
            "grid_gap": null,
            "max_width": null,
            "order": null,
            "_view_module_version": "1.2.0",
            "grid_template_areas": null,
            "object_position": null,
            "object_fit": null,
            "grid_auto_columns": null,
            "margin": null,
            "display": null,
            "left": null
          }
        }
      }
    }
  },
  "cells": [
    {
      "cell_type": "code",
      "metadata": {
        "id": "JhhSyKAlPtT4"
      },
      "source": [
        "import os\n",
        "import cv2\n",
        "import matplotlib.pyplot as plt\n",
        "import numpy as np\n",
        "from PIL import Image\n",
        "import torch\n",
        "import re\n",
        "from google.colab.patches import cv2_imshow\n",
        "import shutil"
      ],
      "execution_count": null,
      "outputs": []
    },
    {
      "cell_type": "code",
      "metadata": {
        "id": "xZUL6JnuPwY9",
        "outputId": "53fee211-0c39-4cf7-c1a7-52045910ce83",
        "colab": {
          "base_uri": "https://localhost:8080/",
          "height": 52
        }
      },
      "source": [
        "%cd /content/drive/My Drive/\n",
        "%pip install tqdm\n",
        "from tqdm.notebook import tqdm\n",
        "import time"
      ],
      "execution_count": null,
      "outputs": [
        {
          "output_type": "stream",
          "text": [
            "/content/drive/My Drive\n",
            "Requirement already satisfied: tqdm in /usr/local/lib/python3.6/dist-packages (4.41.1)\n"
          ],
          "name": "stdout"
        }
      ]
    },
    {
      "cell_type": "code",
      "metadata": {
        "id": "ZamezZnqTunS",
        "outputId": "d36211e5-48ab-45d4-8510-51c6d244c077",
        "colab": {
          "base_uri": "https://localhost:8080/",
          "height": 123
        }
      },
      "source": [
        "%ls\n",
        "min=4823#対象画像の最初のディレクトリ番号\n",
        "max=5241#対象画像の最後のディレクトリ番号"
      ],
      "execution_count": null,
      "outputs": [
        {
          "output_type": "stream",
          "text": [
            "\u001b[0m\u001b[01;34m'Colab Notebooks'\u001b[0m/       \u001b[01;34msmis_pants\u001b[0m/              \u001b[01;34msmis_skirt\u001b[0m/\n",
            " deepfashion.tar         \u001b[01;34msmis_pants_mask\u001b[0m/         \u001b[01;34msmis_skirt_mask\u001b[0m/\n",
            " \u001b[01;36mnew_persons\u001b[0m@            \u001b[01;34msmis_persons\u001b[0m/            \u001b[01;34msmis_tops\u001b[0m/\n",
            " \u001b[01;36mnew_segmentations\u001b[0m@      \u001b[01;34msmis_right-shoes\u001b[0m/        \u001b[01;34msmis_tops_mask\u001b[0m/\n",
            " \u001b[01;34msmis_left-shoes\u001b[0m/        \u001b[01;34msmis_right-shoes_mask\u001b[0m/\n",
            " \u001b[01;34msmis_left-shoes_mask\u001b[0m/   \u001b[01;34msmis_segmentations\u001b[0m/\n"
          ],
          "name": "stdout"
        }
      ]
    },
    {
      "cell_type": "code",
      "metadata": {
        "id": "Kx1YsTPOPzFw",
        "outputId": "c30f5dca-6266-48d4-db5f-f7c3682f06b3",
        "colab": {
          "base_uri": "https://localhost:8080/",
          "height": 34
        }
      },
      "source": [
        "im_seglist = []\n",
        "for i in range(min,max+1):\n",
        "  im_segpath =f\"new_segmentations/segmentation/{i}.jpg\"\n",
        "  #print(os.listdir(im_segpath))\n",
        "  im_seglist.append(im_segpath)\n",
        "  #print(im_seglist)\n",
        "print(len(im_seglist))"
      ],
      "execution_count": null,
      "outputs": [
        {
          "output_type": "stream",
          "text": [
            "419\n"
          ],
          "name": "stdout"
        }
      ]
    },
    {
      "cell_type": "code",
      "metadata": {
        "id": "9x7izRUehE6d",
        "outputId": "86446f3d-f11c-4b0e-b05a-17d8d1e7113e",
        "colab": {
          "base_uri": "https://localhost:8080/",
          "height": 34
        }
      },
      "source": [
        "im_perlist = []\n",
        "\n",
        "for i in range(min,max+1):\n",
        "  im_perpath =f\"new_persons/person/{i}.jpg\"\n",
        "  #print(os.listdir(im_segpath))\n",
        "  im_perlist.append(im_perpath)\n",
        "print(len(im_perlist))"
      ],
      "execution_count": null,
      "outputs": [
        {
          "output_type": "stream",
          "text": [
            "419\n"
          ],
          "name": "stdout"
        }
      ]
    },
    {
      "cell_type": "code",
      "metadata": {
        "id": "8WZZ0NbhbTgI",
        "outputId": "60349bc6-6a51-4ef8-96a1-f2fb5599193f",
        "colab": {
          "base_uri": "https://localhost:8080/",
          "height": 84,
          "referenced_widgets": [
            "a4931ed5460648c0a59adcc1ea869924",
            "41ad2aa7aecc47cf84c1d23341d68fef",
            "f408d7acf93f4cfabbe9a5d5a0936ce3",
            "3298978e205b4b46b57b68a84c674971",
            "9854f8170ddf497391aa020c6a0b5153",
            "5853a7f5c5ca4af0a5a964078f497a3f",
            "25e187604c3d45de9a337f4933a42450",
            "fbcad33632b44024b7f2fb5601a194c0"
          ]
        }
      },
      "source": [
        "count=min\n",
        "for seg,per in tqdm(zip(im_seglist,im_perlist),total=len(im_seglist)):\n",
        "  seg=cv2.imread(seg)\n",
        "  per=cv2.imread(per)\n",
        "  image_seg=seg.transpose(2,0,1)\n",
        "  np.set_printoptions(threshold=np.inf)\n",
        "  #print(image_seg[0])\n",
        "  image_per=per\n",
        "  #print(image_seg.shape)\n",
        "  #print(image_per.shape)\n",
        "  zero=np.zeros((1,256,192))\n",
        "\n",
        "  #tops\n",
        "  for i in range(256):\n",
        "    for j in range(192):\n",
        "      if image_seg[0][i][j]==0 and image_seg[1][i][j]==85 and image_seg[2][i][j]==255:\n",
        "        zero[0][i][j]=1\n",
        "  \n",
        "  mask=zero.transpose(1,2,0)\n",
        "  cv2.imwrite(f\"smis_tops_mask/mask/{count}.jpg\",mask*255)\n",
        "  #cv2_imshow(mask*255)\n",
        "\n",
        "  tops=np.zeros((256,192,3))\n",
        "\n",
        "  tops[:,:,0]=mask[:,:,0]*image_per[:,:,0]\n",
        "  tops[:,:,1]=mask[:,:,0]*image_per[:,:,1]\n",
        "  tops[:,:,2]=mask[:,:,0]*image_per[:,:,2]\n",
        "\n",
        "  #cv2_imshow(tops)\n",
        "\n",
        "  #cv2.imwrite(f\"smis_tops/tops/{count}.jpg\",tops)\n",
        "  \n",
        "\n",
        "\n",
        "\n",
        "  #pants\n",
        "  zero=np.zeros((1,256,192))\n",
        "  for i in range(256):\n",
        "    for j in range(192):\n",
        "      if image_seg[0][i][j]==85 and image_seg[1][i][j]==85 and image_seg[2][i][j]==0:\n",
        "        zero[0][i][j]=1\n",
        "  \n",
        "  mask=zero.transpose(1,2,0)\n",
        "  cv2.imwrite(f\"smis_pants_mask/mask/{count}.jpg\",mask*255)\n",
        "  #cv2_imshow(mask*255)\n",
        "\n",
        "  pants=np.zeros((256,192,3))\n",
        "\n",
        "  pants[:,:,0]=mask[:,:,0]*image_per[:,:,0]\n",
        "  pants[:,:,1]=mask[:,:,0]*image_per[:,:,1]\n",
        "  pants[:,:,2]=mask[:,:,0]*image_per[:,:,2]\n",
        "\n",
        "  #cv2_imshow(pants)\n",
        "\n",
        "  #cv2.imwrite(f\"smis_pants/pants/{count}.jpg\",pants)\n",
        "\n",
        "\n",
        "\n",
        "\n",
        "  #right-shoes\n",
        "  zero=np.zeros((1,256,192))\n",
        "  for i in range(256):\n",
        "    for j in range(192):\n",
        "      if image_seg[0][i][j]==0 and image_seg[1][i][j]==170 and image_seg[2][i][j]==255:\n",
        "        zero[0][i][j]=1\n",
        "        #print('7')\n",
        "  \n",
        "  mask=zero.transpose(1,2,0)\n",
        "  cv2.imwrite(f\"smis_right-shoes_mask/mask/{count}.jpg\",mask*255)\n",
        "  #cv2_imshow(mask*255)\n",
        "\n",
        "  right_shoes=np.zeros((256,192,3))\n",
        "\n",
        "  right_shoes[:,:,0]=mask[:,:,0]*image_per[:,:,0]\n",
        "  right_shoes[:,:,1]=mask[:,:,0]*image_per[:,:,1]\n",
        "  right_shoes[:,:,2]=mask[:,:,0]*image_per[:,:,2]\n",
        "\n",
        "  #cv2_imshow(pants)\n",
        "\n",
        "  #cv2.imwrite(f\"smis_right-shoes/shoes/{count}.jpg\",right_shoes)\n",
        "\n",
        "\n",
        "  #left-shoes\n",
        "  zero=np.zeros((1,256,192))\n",
        "  for i in range(256):\n",
        "    for j in range(192):\n",
        "      if image_seg[0][i][j]==0 and image_seg[1][i][j]==255 and image_seg[2][i][j]==255:\n",
        "        zero[0][i][j]=1\n",
        "        #print('7')\n",
        "  \n",
        "  mask=zero.transpose(1,2,0)\n",
        "  cv2.imwrite(f\"smis_left-shoes_mask/mask/{count}.jpg\",mask*255)\n",
        "  #cv2_imshow(mask*255)\n",
        "\n",
        "  left_shoes=np.zeros((256,192,3))\n",
        "\n",
        "  left_shoes[:,:,0]=mask[:,:,0]*image_per[:,:,0]\n",
        "  left_shoes[:,:,1]=mask[:,:,0]*image_per[:,:,1]\n",
        "  left_shoes[:,:,2]=mask[:,:,0]*image_per[:,:,2]\n",
        "\n",
        "  #cv2_imshow(pants)\n",
        "\n",
        "  #cv2.imwrite(f\"smis_left-shoes/shoes/{count}.jpg\",left_shoes)\n",
        "\n",
        "\n",
        "  #skirt\n",
        "  zero=np.zeros((1,256,192))\n",
        "  for i in range(256):\n",
        "    for j in range(192):\n",
        "      if image_seg[0][i][j]==0 and image_seg[1][i][j]==128 and image_seg[2][i][j]==0:\n",
        "        zero[0][i][j]=1\n",
        "        #print('7')\n",
        "  \n",
        "  mask=zero.transpose(1,2,0)\n",
        "  cv2.imwrite(f\"smis_skirt_mask/mask/{count}.jpg\",mask*255)\n",
        "  #cv2_imshow(mask*255)\n",
        "\n",
        "  skirt=np.zeros((256,192,3))\n",
        "\n",
        "  skirt[:,:,0]=mask[:,:,0]*image_per[:,:,0]\n",
        "  skirt[:,:,1]=mask[:,:,0]*image_per[:,:,1]\n",
        "  skirt[:,:,2]=mask[:,:,0]*image_per[:,:,2]\n",
        "\n",
        "  #cv2_imshow(pants)\n",
        "\n",
        "  #cv2.imwrite(f\"smis_skirt/skirt/{count}.jpg\",skirt)\n",
        "\n",
        "\n",
        "\n",
        "  count+=1\n",
        "  time.sleep(0.1)\n",
        "print(f\"処理数{count},最終番号{count-1}\")"
      ],
      "execution_count": null,
      "outputs": [
        {
          "output_type": "display_data",
          "data": {
            "application/vnd.jupyter.widget-view+json": {
              "model_id": "a4931ed5460648c0a59adcc1ea869924",
              "version_minor": 0,
              "version_major": 2
            },
            "text/plain": [
              "HBox(children=(FloatProgress(value=0.0, max=419.0), HTML(value='')))"
            ]
          },
          "metadata": {
            "tags": []
          }
        },
        {
          "output_type": "stream",
          "text": [
            "\n",
            "処理数5242,最終番号5241\n"
          ],
          "name": "stdout"
        }
      ]
    },
    {
      "cell_type": "code",
      "metadata": {
        "id": "7yHuk9umUkRa",
        "outputId": "3b9a94e2-d52a-4ff0-ffdd-57bf7dbd0671",
        "colab": {
          "base_uri": "https://localhost:8080/",
          "height": 34
        }
      },
      "source": [
        "im=cv2.imread(\"smis_tops_mask/mask/0.jpg\")\n",
        "print(im.shape)"
      ],
      "execution_count": null,
      "outputs": [
        {
          "output_type": "stream",
          "text": [
            "(256, 192, 3)\n"
          ],
          "name": "stdout"
        }
      ]
    },
    {
      "cell_type": "code",
      "metadata": {
        "id": "-c_Kgtl5XHnh"
      },
      "source": [
        "from __future__ import print_function\n",
        "#%matplotlib inline\n",
        "import argparse\n",
        "import os\n",
        "import cv2\n",
        "import random\n",
        "import torch\n",
        "import torch.nn as nn\n",
        "import torch.nn.parallel\n",
        "import torch.backends.cudnn as cudnn\n",
        "import torch.optim as optim\n",
        "import torch.utils.data\n",
        "import torchvision.datasets as dset\n",
        "import torchvision.transforms as transforms\n",
        "import torchvision.utils as vutils\n",
        "import numpy as np\n",
        "import matplotlib.pyplot as plt\n",
        "import matplotlib.animation as animation\n",
        "from IPython.display import HTML\n",
        "import time\n",
        "import subprocess as sp\n",
        "from datetime import datetime, timedelta, timezone\n",
        "import math\n",
        "from torchvision import datasets, models, transforms"
      ],
      "execution_count": null,
      "outputs": []
    },
    {
      "cell_type": "code",
      "metadata": {
        "id": "SHA5TZ7rXLUV",
        "outputId": "a07e523d-2f6c-4d01-c9e3-cb95be4298a6",
        "colab": {
          "base_uri": "https://localhost:8080/",
          "height": 52
        }
      },
      "source": [
        "%cd drive/My\\ Drive\n",
        "dataroot1=\"smis_tops_mask\"\n",
        "dataroot2=\"smis_skirt_mask\"\n",
        "dataroot3=\"smis_right-shoes_mask\"\n",
        "dataroot4=\"smis_left-shoes_mask\"\n",
        "dataroot5=\"smis_pants_mask\"\n",
        "num_thread=0\n",
        "batch_size=16\n",
        "num_epoch=15\n",
        "img_size=(128,96)\n",
        "lr=0.0002\n",
        "b1=0.5\n",
        "b2=0.999\n",
        "ngpu=1"
      ],
      "execution_count": null,
      "outputs": [
        {
          "output_type": "stream",
          "text": [
            "[Errno 2] No such file or directory: 'drive/My Drive'\n",
            "/content/drive/My Drive\n"
          ],
          "name": "stdout"
        }
      ]
    },
    {
      "cell_type": "code",
      "metadata": {
        "id": "dJ4w3gc9XjQh"
      },
      "source": [
        "a_dataset=dset.ImageFolder(root=dataroot1,\n",
        "                           transform=transforms.Compose([transforms.Resize(img_size),transforms.Grayscale(),transforms.ToTensor(),]))\n",
        "a_dataloader=torch.utils.data.DataLoader(a_dataset,batch_size=batch_size,shuffle=False,num_workers=num_thread)\n",
        "b_dataset=dset.ImageFolder(root=dataroot2,\n",
        "                           transform=transforms.Compose([transforms.Resize(img_size),transforms.Grayscale(),transforms.ToTensor(),]))\n",
        "b_dataloader=torch.utils.data.DataLoader(b_dataset,batch_size=batch_size,shuffle=False,num_workers=num_thread)\n",
        "c_dataset=dset.ImageFolder(root=dataroot3,\n",
        "                           transform=transforms.Compose([transforms.Resize(img_size),transforms.Grayscale(),transforms.ToTensor(),]))\n",
        "c_dataloader=torch.utils.data.DataLoader(c_dataset,batch_size=batch_size,shuffle=False,num_workers=num_thread)\n",
        "d_dataset=dset.ImageFolder(root=dataroot4,\n",
        "                           transform=transforms.Compose([transforms.Resize(img_size),transforms.Grayscale(),transforms.ToTensor(),]))\n",
        "d_dataloader=torch.utils.data.DataLoader(d_dataset,batch_size=batch_size,shuffle=False,num_workers=num_thread)\n",
        "e_dataset=dset.ImageFolder(root=dataroot5,\n",
        "                           transform=transforms.Compose([transforms.Resize(img_size),transforms.Grayscale(),transforms.ToTensor(),]))\n",
        "e_dataloader=torch.utils.data.DataLoader(e_dataset,batch_size=batch_size,shuffle=False,num_workers=num_thread)\n",
        "device=torch.device(\"cuda:0\")  "
      ],
      "execution_count": null,
      "outputs": []
    },
    {
      "cell_type": "code",
      "metadata": {
        "id": "MtSn5xZfXu48",
        "outputId": "d6fc1469-ee6d-498f-8c6d-53e313977c94",
        "colab": {
          "base_uri": "https://localhost:8080/",
          "height": 34
        }
      },
      "source": [
        "len(e_dataset)"
      ],
      "execution_count": null,
      "outputs": [
        {
          "output_type": "execute_result",
          "data": {
            "text/plain": [
              "5242"
            ]
          },
          "metadata": {
            "tags": []
          },
          "execution_count": 19
        }
      ]
    },
    {
      "cell_type": "code",
      "metadata": {
        "id": "W4_iToVMX3nr",
        "outputId": "8130ed61-3812-4dc7-ecf2-989c114589f9",
        "colab": {
          "base_uri": "https://localhost:8080/",
          "height": 198
        }
      },
      "source": [
        "for n,i in enumerate(p_dataloader):\n",
        "  print(i[0].size())\n",
        "  print(88)\n",
        "  plt.imshow(np.transpose(vutils.make_grid(i[0][:16], padding=2, normalize=True).cpu(),(1,2,0)))"
      ],
      "execution_count": null,
      "outputs": [
        {
          "output_type": "stream",
          "text": [
            "torch.Size([11, 1, 128, 96])\n",
            "88\n"
          ],
          "name": "stdout"
        },
        {
          "output_type": "display_data",
          "data": {
            "image/png": "[encoded data removed]",
            "text/plain": [
              "<Figure size 432x288 with 1 Axes>"
            ]
          },
          "metadata": {
            "tags": []
          }
        }
      ]
    }
  ]
}