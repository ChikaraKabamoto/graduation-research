{
  "nbformat": 4,
  "nbformat_minor": 0,
  "metadata": {
    "colab": {
      "name": "MNISTフルスクラッチ.ipynb",
      "provenance": [],
      "collapsed_sections": []
    },
    "kernelspec": {
      "name": "python3",
      "display_name": "Python 3"
    },
    "widgets": {
      "application/vnd.jupyter.widget-state+json": {
        "41719de1b912467585cb6ad16d44a47a": {
          "model_module": "@jupyter-widgets/controls",
          "model_name": "HBoxModel",
          "state": {
            "_view_name": "HBoxView",
            "_dom_classes": [],
            "_model_name": "HBoxModel",
            "_view_module": "@jupyter-widgets/controls",
            "_model_module_version": "1.5.0",
            "_view_count": null,
            "_view_module_version": "1.5.0",
            "box_style": "",
            "layout": "IPY_MODEL_a63beaac50d14fa1a2ff12b62fe76bfb",
            "_model_module": "@jupyter-widgets/controls",
            "children": [
              "IPY_MODEL_c1838bd6469540b7a1cf5a53d897f766",
              "IPY_MODEL_05b58c9acd1d4fe4bc795435732a1b9d"
            ]
          }
        },
        "a63beaac50d14fa1a2ff12b62fe76bfb": {
          "model_module": "@jupyter-widgets/base",
          "model_name": "LayoutModel",
          "state": {
            "_view_name": "LayoutView",
            "grid_template_rows": null,
            "right": null,
            "justify_content": null,
            "_view_module": "@jupyter-widgets/base",
            "overflow": null,
            "_model_module_version": "1.2.0",
            "_view_count": null,
            "flex_flow": null,
            "width": null,
            "min_width": null,
            "border": null,
            "align_items": null,
            "bottom": null,
            "_model_module": "@jupyter-widgets/base",
            "top": null,
            "grid_column": null,
            "overflow_y": null,
            "overflow_x": null,
            "grid_auto_flow": null,
            "grid_area": null,
            "grid_template_columns": null,
            "flex": null,
            "_model_name": "LayoutModel",
            "justify_items": null,
            "grid_row": null,
            "max_height": null,
            "align_content": null,
            "visibility": null,
            "align_self": null,
            "height": null,
            "min_height": null,
            "padding": null,
            "grid_auto_rows": null,
            "grid_gap": null,
            "max_width": null,
            "order": null,
            "_view_module_version": "1.2.0",
            "grid_template_areas": null,
            "object_position": null,
            "object_fit": null,
            "grid_auto_columns": null,
            "margin": null,
            "display": null,
            "left": null
          }
        },
        "c1838bd6469540b7a1cf5a53d897f766": {
          "model_module": "@jupyter-widgets/controls",
          "model_name": "FloatProgressModel",
          "state": {
            "_view_name": "ProgressView",
            "style": "IPY_MODEL_70c99ba0e72a4b08ab1522c976f7a64c",
            "_dom_classes": [],
            "description": "",
            "_model_name": "FloatProgressModel",
            "bar_style": "info",
            "max": 1,
            "_view_module": "@jupyter-widgets/controls",
            "_model_module_version": "1.5.0",
            "value": 1,
            "_view_count": null,
            "_view_module_version": "1.5.0",
            "orientation": "horizontal",
            "min": 0,
            "description_tooltip": null,
            "_model_module": "@jupyter-widgets/controls",
            "layout": "IPY_MODEL_2834a94f552a4bcba544a44e12f1f1a2"
          }
        },
        "05b58c9acd1d4fe4bc795435732a1b9d": {
          "model_module": "@jupyter-widgets/controls",
          "model_name": "HTMLModel",
          "state": {
            "_view_name": "HTMLView",
            "style": "IPY_MODEL_2e4f1d1d6ff041ffa8b47ddddf2cae10",
            "_dom_classes": [],
            "description": "",
            "_model_name": "HTMLModel",
            "placeholder": "​",
            "_view_module": "@jupyter-widgets/controls",
            "_model_module_version": "1.5.0",
            "value": " 9920512/? [00:19&lt;00:00, 1477015.15it/s]",
            "_view_count": null,
            "_view_module_version": "1.5.0",
            "description_tooltip": null,
            "_model_module": "@jupyter-widgets/controls",
            "layout": "IPY_MODEL_4d78b4a5b2eb474cbc1ef2591f9a253e"
          }
        },
        "70c99ba0e72a4b08ab1522c976f7a64c": {
          "model_module": "@jupyter-widgets/controls",
          "model_name": "ProgressStyleModel",
          "state": {
            "_view_name": "StyleView",
            "_model_name": "ProgressStyleModel",
            "description_width": "initial",
            "_view_module": "@jupyter-widgets/base",
            "_model_module_version": "1.5.0",
            "_view_count": null,
            "_view_module_version": "1.2.0",
            "bar_color": null,
            "_model_module": "@jupyter-widgets/controls"
          }
        },
        "2834a94f552a4bcba544a44e12f1f1a2": {
          "model_module": "@jupyter-widgets/base",
          "model_name": "LayoutModel",
          "state": {
            "_view_name": "LayoutView",
            "grid_template_rows": null,
            "right": null,
            "justify_content": null,
            "_view_module": "@jupyter-widgets/base",
            "overflow": null,
            "_model_module_version": "1.2.0",
            "_view_count": null,
            "flex_flow": null,
            "width": null,
            "min_width": null,
            "border": null,
            "align_items": null,
            "bottom": null,
            "_model_module": "@jupyter-widgets/base",
            "top": null,
            "grid_column": null,
            "overflow_y": null,
            "overflow_x": null,
            "grid_auto_flow": null,
            "grid_area": null,
            "grid_template_columns": null,
            "flex": null,
            "_model_name": "LayoutModel",
            "justify_items": null,
            "grid_row": null,
            "max_height": null,
            "align_content": null,
            "visibility": null,
            "align_self": null,
            "height": null,
            "min_height": null,
            "padding": null,
            "grid_auto_rows": null,
            "grid_gap": null,
            "max_width": null,
            "order": null,
            "_view_module_version": "1.2.0",
            "grid_template_areas": null,
            "object_position": null,
            "object_fit": null,
            "grid_auto_columns": null,
            "margin": null,
            "display": null,
            "left": null
          }
        },
        "2e4f1d1d6ff041ffa8b47ddddf2cae10": {
          "model_module": "@jupyter-widgets/controls",
          "model_name": "DescriptionStyleModel",
          "state": {
            "_view_name": "StyleView",
            "_model_name": "DescriptionStyleModel",
            "description_width": "",
            "_view_module": "@jupyter-widgets/base",
            "_model_module_version": "1.5.0",
            "_view_count": null,
            "_view_module_version": "1.2.0",
            "_model_module": "@jupyter-widgets/controls"
          }
        },
        "4d78b4a5b2eb474cbc1ef2591f9a253e": {
          "model_module": "@jupyter-widgets/base",
          "model_name": "LayoutModel",
          "state": {
            "_view_name": "LayoutView",
            "grid_template_rows": null,
            "right": null,
            "justify_content": null,
            "_view_module": "@jupyter-widgets/base",
            "overflow": null,
            "_model_module_version": "1.2.0",
            "_view_count": null,
            "flex_flow": null,
            "width": null,
            "min_width": null,
            "border": null,
            "align_items": null,
            "bottom": null,
            "_model_module": "@jupyter-widgets/base",
            "top": null,
            "grid_column": null,
            "overflow_y": null,
            "overflow_x": null,
            "grid_auto_flow": null,
            "grid_area": null,
            "grid_template_columns": null,
            "flex": null,
            "_model_name": "LayoutModel",
            "justify_items": null,
            "grid_row": null,
            "max_height": null,
            "align_content": null,
            "visibility": null,
            "align_self": null,
            "height": null,
            "min_height": null,
            "padding": null,
            "grid_auto_rows": null,
            "grid_gap": null,
            "max_width": null,
            "order": null,
            "_view_module_version": "1.2.0",
            "grid_template_areas": null,
            "object_position": null,
            "object_fit": null,
            "grid_auto_columns": null,
            "margin": null,
            "display": null,
            "left": null
          }
        },
        "a9a3d8440df8435b9e001058cce29e8e": {
          "model_module": "@jupyter-widgets/controls",
          "model_name": "HBoxModel",
          "state": {
            "_view_name": "HBoxView",
            "_dom_classes": [],
            "_model_name": "HBoxModel",
            "_view_module": "@jupyter-widgets/controls",
            "_model_module_version": "1.5.0",
            "_view_count": null,
            "_view_module_version": "1.5.0",
            "box_style": "",
            "layout": "IPY_MODEL_71042dbab64a4898b68195e007cd3762",
            "_model_module": "@jupyter-widgets/controls",
            "children": [
              "IPY_MODEL_42f41ff78f0543e198dbd498d2d0a470",
              "IPY_MODEL_30281f03f95e436a80dc44324df826da"
            ]
          }
        },
        "71042dbab64a4898b68195e007cd3762": {
          "model_module": "@jupyter-widgets/base",
          "model_name": "LayoutModel",
          "state": {
            "_view_name": "LayoutView",
            "grid_template_rows": null,
            "right": null,
            "justify_content": null,
            "_view_module": "@jupyter-widgets/base",
            "overflow": null,
            "_model_module_version": "1.2.0",
            "_view_count": null,
            "flex_flow": null,
            "width": null,
            "min_width": null,
            "border": null,
            "align_items": null,
            "bottom": null,
            "_model_module": "@jupyter-widgets/base",
            "top": null,
            "grid_column": null,
            "overflow_y": null,
            "overflow_x": null,
            "grid_auto_flow": null,
            "grid_area": null,
            "grid_template_columns": null,
            "flex": null,
            "_model_name": "LayoutModel",
            "justify_items": null,
            "grid_row": null,
            "max_height": null,
            "align_content": null,
            "visibility": null,
            "align_self": null,
            "height": null,
            "min_height": null,
            "padding": null,
            "grid_auto_rows": null,
            "grid_gap": null,
            "max_width": null,
            "order": null,
            "_view_module_version": "1.2.0",
            "grid_template_areas": null,
            "object_position": null,
            "object_fit": null,
            "grid_auto_columns": null,
            "margin": null,
            "display": null,
            "left": null
          }
        },
        "42f41ff78f0543e198dbd498d2d0a470": {
          "model_module": "@jupyter-widgets/controls",
          "model_name": "FloatProgressModel",
          "state": {
            "_view_name": "ProgressView",
            "style": "IPY_MODEL_c8747f2699e545d4b2aac8d6e8b16099",
            "_dom_classes": [],
            "description": "",
            "_model_name": "FloatProgressModel",
            "bar_style": "success",
            "max": 1,
            "_view_module": "@jupyter-widgets/controls",
            "_model_module_version": "1.5.0",
            "value": 1,
            "_view_count": null,
            "_view_module_version": "1.5.0",
            "orientation": "horizontal",
            "min": 0,
            "description_tooltip": null,
            "_model_module": "@jupyter-widgets/controls",
            "layout": "IPY_MODEL_b03d09cb76144f5f9a2bb9ee4a1edbd6"
          }
        },
        "30281f03f95e436a80dc44324df826da": {
          "model_module": "@jupyter-widgets/controls",
          "model_name": "HTMLModel",
          "state": {
            "_view_name": "HTMLView",
            "style": "IPY_MODEL_875e345324474346ab2a67ac9ee5dc86",
            "_dom_classes": [],
            "description": "",
            "_model_name": "HTMLModel",
            "placeholder": "​",
            "_view_module": "@jupyter-widgets/controls",
            "_model_module_version": "1.5.0",
            "value": " 32768/? [00:00&lt;00:00, 104513.85it/s]",
            "_view_count": null,
            "_view_module_version": "1.5.0",
            "description_tooltip": null,
            "_model_module": "@jupyter-widgets/controls",
            "layout": "IPY_MODEL_b48b85a5d92d4f779a8f7d6bc3f138b7"
          }
        },
        "c8747f2699e545d4b2aac8d6e8b16099": {
          "model_module": "@jupyter-widgets/controls",
          "model_name": "ProgressStyleModel",
          "state": {
            "_view_name": "StyleView",
            "_model_name": "ProgressStyleModel",
            "description_width": "initial",
            "_view_module": "@jupyter-widgets/base",
            "_model_module_version": "1.5.0",
            "_view_count": null,
            "_view_module_version": "1.2.0",
            "bar_color": null,
            "_model_module": "@jupyter-widgets/controls"
          }
        },
        "b03d09cb76144f5f9a2bb9ee4a1edbd6": {
          "model_module": "@jupyter-widgets/base",
          "model_name": "LayoutModel",
          "state": {
            "_view_name": "LayoutView",
            "grid_template_rows": null,
            "right": null,
            "justify_content": null,
            "_view_module": "@jupyter-widgets/base",
            "overflow": null,
            "_model_module_version": "1.2.0",
            "_view_count": null,
            "flex_flow": null,
            "width": null,
            "min_width": null,
            "border": null,
            "align_items": null,
            "bottom": null,
            "_model_module": "@jupyter-widgets/base",
            "top": null,
            "grid_column": null,
            "overflow_y": null,
            "overflow_x": null,
            "grid_auto_flow": null,
            "grid_area": null,
            "grid_template_columns": null,
            "flex": null,
            "_model_name": "LayoutModel",
            "justify_items": null,
            "grid_row": null,
            "max_height": null,
            "align_content": null,
            "visibility": null,
            "align_self": null,
            "height": null,
            "min_height": null,
            "padding": null,
            "grid_auto_rows": null,
            "grid_gap": null,
            "max_width": null,
            "order": null,
            "_view_module_version": "1.2.0",
            "grid_template_areas": null,
            "object_position": null,
            "object_fit": null,
            "grid_auto_columns": null,
            "margin": null,
            "display": null,
            "left": null
          }
        },
        "875e345324474346ab2a67ac9ee5dc86": {
          "model_module": "@jupyter-widgets/controls",
          "model_name": "DescriptionStyleModel",
          "state": {
            "_view_name": "StyleView",
            "_model_name": "DescriptionStyleModel",
            "description_width": "",
            "_view_module": "@jupyter-widgets/base",
            "_model_module_version": "1.5.0",
            "_view_count": null,
            "_view_module_version": "1.2.0",
            "_model_module": "@jupyter-widgets/controls"
          }
        },
        "b48b85a5d92d4f779a8f7d6bc3f138b7": {
          "model_module": "@jupyter-widgets/base",
          "model_name": "LayoutModel",
          "state": {
            "_view_name": "LayoutView",
            "grid_template_rows": null,
            "right": null,
            "justify_content": null,
            "_view_module": "@jupyter-widgets/base",
            "overflow": null,
            "_model_module_version": "1.2.0",
            "_view_count": null,
            "flex_flow": null,
            "width": null,
            "min_width": null,
            "border": null,
            "align_items": null,
            "bottom": null,
            "_model_module": "@jupyter-widgets/base",
            "top": null,
            "grid_column": null,
            "overflow_y": null,
            "overflow_x": null,
            "grid_auto_flow": null,
            "grid_area": null,
            "grid_template_columns": null,
            "flex": null,
            "_model_name": "LayoutModel",
            "justify_items": null,
            "grid_row": null,
            "max_height": null,
            "align_content": null,
            "visibility": null,
            "align_self": null,
            "height": null,
            "min_height": null,
            "padding": null,
            "grid_auto_rows": null,
            "grid_gap": null,
            "max_width": null,
            "order": null,
            "_view_module_version": "1.2.0",
            "grid_template_areas": null,
            "object_position": null,
            "object_fit": null,
            "grid_auto_columns": null,
            "margin": null,
            "display": null,
            "left": null
          }
        },
        "4055ec65e0d342d3b6b3836bbf3922f5": {
          "model_module": "@jupyter-widgets/controls",
          "model_name": "HBoxModel",
          "state": {
            "_view_name": "HBoxView",
            "_dom_classes": [],
            "_model_name": "HBoxModel",
            "_view_module": "@jupyter-widgets/controls",
            "_model_module_version": "1.5.0",
            "_view_count": null,
            "_view_module_version": "1.5.0",
            "box_style": "",
            "layout": "IPY_MODEL_07245f176634436fa9499e80ffbf7b5b",
            "_model_module": "@jupyter-widgets/controls",
            "children": [
              "IPY_MODEL_3a99578d47544db6a5822fa99d4437ed",
              "IPY_MODEL_0863cedc706f481e8d8ca837af0b30dc"
            ]
          }
        },
        "07245f176634436fa9499e80ffbf7b5b": {
          "model_module": "@jupyter-widgets/base",
          "model_name": "LayoutModel",
          "state": {
            "_view_name": "LayoutView",
            "grid_template_rows": null,
            "right": null,
            "justify_content": null,
            "_view_module": "@jupyter-widgets/base",
            "overflow": null,
            "_model_module_version": "1.2.0",
            "_view_count": null,
            "flex_flow": null,
            "width": null,
            "min_width": null,
            "border": null,
            "align_items": null,
            "bottom": null,
            "_model_module": "@jupyter-widgets/base",
            "top": null,
            "grid_column": null,
            "overflow_y": null,
            "overflow_x": null,
            "grid_auto_flow": null,
            "grid_area": null,
            "grid_template_columns": null,
            "flex": null,
            "_model_name": "LayoutModel",
            "justify_items": null,
            "grid_row": null,
            "max_height": null,
            "align_content": null,
            "visibility": null,
            "align_self": null,
            "height": null,
            "min_height": null,
            "padding": null,
            "grid_auto_rows": null,
            "grid_gap": null,
            "max_width": null,
            "order": null,
            "_view_module_version": "1.2.0",
            "grid_template_areas": null,
            "object_position": null,
            "object_fit": null,
            "grid_auto_columns": null,
            "margin": null,
            "display": null,
            "left": null
          }
        },
        "3a99578d47544db6a5822fa99d4437ed": {
          "model_module": "@jupyter-widgets/controls",
          "model_name": "FloatProgressModel",
          "state": {
            "_view_name": "ProgressView",
            "style": "IPY_MODEL_3d3cc8b2638d4e77ad804befa12b566d",
            "_dom_classes": [],
            "description": "",
            "_model_name": "FloatProgressModel",
            "bar_style": "info",
            "max": 1,
            "_view_module": "@jupyter-widgets/controls",
            "_model_module_version": "1.5.0",
            "value": 1,
            "_view_count": null,
            "_view_module_version": "1.5.0",
            "orientation": "horizontal",
            "min": 0,
            "description_tooltip": null,
            "_model_module": "@jupyter-widgets/controls",
            "layout": "IPY_MODEL_9a7b2e7067104df5a65ed4ff20d2ca4a"
          }
        },
        "0863cedc706f481e8d8ca837af0b30dc": {
          "model_module": "@jupyter-widgets/controls",
          "model_name": "HTMLModel",
          "state": {
            "_view_name": "HTMLView",
            "style": "IPY_MODEL_e2381bad33df4089b00e65ccfc772905",
            "_dom_classes": [],
            "description": "",
            "_model_name": "HTMLModel",
            "placeholder": "​",
            "_view_module": "@jupyter-widgets/controls",
            "_model_module_version": "1.5.0",
            "value": " 1654784/? [00:18&lt;00:00, 532793.21it/s]",
            "_view_count": null,
            "_view_module_version": "1.5.0",
            "description_tooltip": null,
            "_model_module": "@jupyter-widgets/controls",
            "layout": "IPY_MODEL_884d4861b5244dbab33fbd80b8dfc200"
          }
        },
        "3d3cc8b2638d4e77ad804befa12b566d": {
          "model_module": "@jupyter-widgets/controls",
          "model_name": "ProgressStyleModel",
          "state": {
            "_view_name": "StyleView",
            "_model_name": "ProgressStyleModel",
            "description_width": "initial",
            "_view_module": "@jupyter-widgets/base",
            "_model_module_version": "1.5.0",
            "_view_count": null,
            "_view_module_version": "1.2.0",
            "bar_color": null,
            "_model_module": "@jupyter-widgets/controls"
          }
        },
        "9a7b2e7067104df5a65ed4ff20d2ca4a": {
          "model_module": "@jupyter-widgets/base",
          "model_name": "LayoutModel",
          "state": {
            "_view_name": "LayoutView",
            "grid_template_rows": null,
            "right": null,
            "justify_content": null,
            "_view_module": "@jupyter-widgets/base",
            "overflow": null,
            "_model_module_version": "1.2.0",
            "_view_count": null,
            "flex_flow": null,
            "width": null,
            "min_width": null,
            "border": null,
            "align_items": null,
            "bottom": null,
            "_model_module": "@jupyter-widgets/base",
            "top": null,
            "grid_column": null,
            "overflow_y": null,
            "overflow_x": null,
            "grid_auto_flow": null,
            "grid_area": null,
            "grid_template_columns": null,
            "flex": null,
            "_model_name": "LayoutModel",
            "justify_items": null,
            "grid_row": null,
            "max_height": null,
            "align_content": null,
            "visibility": null,
            "align_self": null,
            "height": null,
            "min_height": null,
            "padding": null,
            "grid_auto_rows": null,
            "grid_gap": null,
            "max_width": null,
            "order": null,
            "_view_module_version": "1.2.0",
            "grid_template_areas": null,
            "object_position": null,
            "object_fit": null,
            "grid_auto_columns": null,
            "margin": null,
            "display": null,
            "left": null
          }
        },
        "e2381bad33df4089b00e65ccfc772905": {
          "model_module": "@jupyter-widgets/controls",
          "model_name": "DescriptionStyleModel",
          "state": {
            "_view_name": "StyleView",
            "_model_name": "DescriptionStyleModel",
            "description_width": "",
            "_view_module": "@jupyter-widgets/base",
            "_model_module_version": "1.5.0",
            "_view_count": null,
            "_view_module_version": "1.2.0",
            "_model_module": "@jupyter-widgets/controls"
          }
        },
        "884d4861b5244dbab33fbd80b8dfc200": {
          "model_module": "@jupyter-widgets/base",
          "model_name": "LayoutModel",
          "state": {
            "_view_name": "LayoutView",
            "grid_template_rows": null,
            "right": null,
            "justify_content": null,
            "_view_module": "@jupyter-widgets/base",
            "overflow": null,
            "_model_module_version": "1.2.0",
            "_view_count": null,
            "flex_flow": null,
            "width": null,
            "min_width": null,
            "border": null,
            "align_items": null,
            "bottom": null,
            "_model_module": "@jupyter-widgets/base",
            "top": null,
            "grid_column": null,
            "overflow_y": null,
            "overflow_x": null,
            "grid_auto_flow": null,
            "grid_area": null,
            "grid_template_columns": null,
            "flex": null,
            "_model_name": "LayoutModel",
            "justify_items": null,
            "grid_row": null,
            "max_height": null,
            "align_content": null,
            "visibility": null,
            "align_self": null,
            "height": null,
            "min_height": null,
            "padding": null,
            "grid_auto_rows": null,
            "grid_gap": null,
            "max_width": null,
            "order": null,
            "_view_module_version": "1.2.0",
            "grid_template_areas": null,
            "object_position": null,
            "object_fit": null,
            "grid_auto_columns": null,
            "margin": null,
            "display": null,
            "left": null
          }
        },
        "3bb1934a411b4d98a407fee90e8735eb": {
          "model_module": "@jupyter-widgets/controls",
          "model_name": "HBoxModel",
          "state": {
            "_view_name": "HBoxView",
            "_dom_classes": [],
            "_model_name": "HBoxModel",
            "_view_module": "@jupyter-widgets/controls",
            "_model_module_version": "1.5.0",
            "_view_count": null,
            "_view_module_version": "1.5.0",
            "box_style": "",
            "layout": "IPY_MODEL_eb563a6825d64d2d8808e6842f8009f8",
            "_model_module": "@jupyter-widgets/controls",
            "children": [
              "IPY_MODEL_ffeeaa2f27324033b8beebecdc74468e",
              "IPY_MODEL_73f428dbda81489cb8643fa1147a8fa7"
            ]
          }
        },
        "eb563a6825d64d2d8808e6842f8009f8": {
          "model_module": "@jupyter-widgets/base",
          "model_name": "LayoutModel",
          "state": {
            "_view_name": "LayoutView",
            "grid_template_rows": null,
            "right": null,
            "justify_content": null,
            "_view_module": "@jupyter-widgets/base",
            "overflow": null,
            "_model_module_version": "1.2.0",
            "_view_count": null,
            "flex_flow": null,
            "width": null,
            "min_width": null,
            "border": null,
            "align_items": null,
            "bottom": null,
            "_model_module": "@jupyter-widgets/base",
            "top": null,
            "grid_column": null,
            "overflow_y": null,
            "overflow_x": null,
            "grid_auto_flow": null,
            "grid_area": null,
            "grid_template_columns": null,
            "flex": null,
            "_model_name": "LayoutModel",
            "justify_items": null,
            "grid_row": null,
            "max_height": null,
            "align_content": null,
            "visibility": null,
            "align_self": null,
            "height": null,
            "min_height": null,
            "padding": null,
            "grid_auto_rows": null,
            "grid_gap": null,
            "max_width": null,
            "order": null,
            "_view_module_version": "1.2.0",
            "grid_template_areas": null,
            "object_position": null,
            "object_fit": null,
            "grid_auto_columns": null,
            "margin": null,
            "display": null,
            "left": null
          }
        },
        "ffeeaa2f27324033b8beebecdc74468e": {
          "model_module": "@jupyter-widgets/controls",
          "model_name": "FloatProgressModel",
          "state": {
            "_view_name": "ProgressView",
            "style": "IPY_MODEL_323e2d750bde4637ba74995feb3bd3e1",
            "_dom_classes": [],
            "description": "  0%",
            "_model_name": "FloatProgressModel",
            "bar_style": "info",
            "max": 1,
            "_view_module": "@jupyter-widgets/controls",
            "_model_module_version": "1.5.0",
            "value": 0,
            "_view_count": null,
            "_view_module_version": "1.5.0",
            "orientation": "horizontal",
            "min": 0,
            "description_tooltip": null,
            "_model_module": "@jupyter-widgets/controls",
            "layout": "IPY_MODEL_275cb92ae72c4c8da73906f81cdef6ea"
          }
        },
        "73f428dbda81489cb8643fa1147a8fa7": {
          "model_module": "@jupyter-widgets/controls",
          "model_name": "HTMLModel",
          "state": {
            "_view_name": "HTMLView",
            "style": "IPY_MODEL_75a7e46ce25b4ba1a8912442f944e348",
            "_dom_classes": [],
            "description": "",
            "_model_name": "HTMLModel",
            "placeholder": "​",
            "_view_module": "@jupyter-widgets/controls",
            "_model_module_version": "1.5.0",
            "value": " 0/4542 [00:00&lt;?, ?it/s]",
            "_view_count": null,
            "_view_module_version": "1.5.0",
            "description_tooltip": null,
            "_model_module": "@jupyter-widgets/controls",
            "layout": "IPY_MODEL_d4cb93119f2d4655840dc7067822bb30"
          }
        },
        "323e2d750bde4637ba74995feb3bd3e1": {
          "model_module": "@jupyter-widgets/controls",
          "model_name": "ProgressStyleModel",
          "state": {
            "_view_name": "StyleView",
            "_model_name": "ProgressStyleModel",
            "description_width": "initial",
            "_view_module": "@jupyter-widgets/base",
            "_model_module_version": "1.5.0",
            "_view_count": null,
            "_view_module_version": "1.2.0",
            "bar_color": null,
            "_model_module": "@jupyter-widgets/controls"
          }
        },
        "275cb92ae72c4c8da73906f81cdef6ea": {
          "model_module": "@jupyter-widgets/base",
          "model_name": "LayoutModel",
          "state": {
            "_view_name": "LayoutView",
            "grid_template_rows": null,
            "right": null,
            "justify_content": null,
            "_view_module": "@jupyter-widgets/base",
            "overflow": null,
            "_model_module_version": "1.2.0",
            "_view_count": null,
            "flex_flow": null,
            "width": null,
            "min_width": null,
            "border": null,
            "align_items": null,
            "bottom": null,
            "_model_module": "@jupyter-widgets/base",
            "top": null,
            "grid_column": null,
            "overflow_y": null,
            "overflow_x": null,
            "grid_auto_flow": null,
            "grid_area": null,
            "grid_template_columns": null,
            "flex": null,
            "_model_name": "LayoutModel",
            "justify_items": null,
            "grid_row": null,
            "max_height": null,
            "align_content": null,
            "visibility": null,
            "align_self": null,
            "height": null,
            "min_height": null,
            "padding": null,
            "grid_auto_rows": null,
            "grid_gap": null,
            "max_width": null,
            "order": null,
            "_view_module_version": "1.2.0",
            "grid_template_areas": null,
            "object_position": null,
            "object_fit": null,
            "grid_auto_columns": null,
            "margin": null,
            "display": null,
            "left": null
          }
        },
        "75a7e46ce25b4ba1a8912442f944e348": {
          "model_module": "@jupyter-widgets/controls",
          "model_name": "DescriptionStyleModel",
          "state": {
            "_view_name": "StyleView",
            "_model_name": "DescriptionStyleModel",
            "description_width": "",
            "_view_module": "@jupyter-widgets/base",
            "_model_module_version": "1.5.0",
            "_view_count": null,
            "_view_module_version": "1.2.0",
            "_model_module": "@jupyter-widgets/controls"
          }
        },
        "d4cb93119f2d4655840dc7067822bb30": {
          "model_module": "@jupyter-widgets/base",
          "model_name": "LayoutModel",
          "state": {
            "_view_name": "LayoutView",
            "grid_template_rows": null,
            "right": null,
            "justify_content": null,
            "_view_module": "@jupyter-widgets/base",
            "overflow": null,
            "_model_module_version": "1.2.0",
            "_view_count": null,
            "flex_flow": null,
            "width": null,
            "min_width": null,
            "border": null,
            "align_items": null,
            "bottom": null,
            "_model_module": "@jupyter-widgets/base",
            "top": null,
            "grid_column": null,
            "overflow_y": null,
            "overflow_x": null,
            "grid_auto_flow": null,
            "grid_area": null,
            "grid_template_columns": null,
            "flex": null,
            "_model_name": "LayoutModel",
            "justify_items": null,
            "grid_row": null,
            "max_height": null,
            "align_content": null,
            "visibility": null,
            "align_self": null,
            "height": null,
            "min_height": null,
            "padding": null,
            "grid_auto_rows": null,
            "grid_gap": null,
            "max_width": null,
            "order": null,
            "_view_module_version": "1.2.0",
            "grid_template_areas": null,
            "object_position": null,
            "object_fit": null,
            "grid_auto_columns": null,
            "margin": null,
            "display": null,
            "left": null
          }
        }
      }
    }
  },
  "cells": [
    {
      "cell_type": "markdown",
      "metadata": {
        "id": "WjnCmupTv9lJ"
      },
      "source": [
        "#ライブラリのインポート"
      ]
    },
    {
      "cell_type": "code",
      "metadata": {
        "id": "-RR-KeDSsElk"
      },
      "source": [
        "import torch\n",
        "from torch.utils.data import DataLoader\n",
        "from torchvision import datasets,transforms\n",
        "import numpy as np\n",
        "import math\n",
        "import pickle\n",
        "import matplotlib.pyplot as plt"
      ],
      "execution_count": null,
      "outputs": []
    },
    {
      "cell_type": "markdown",
      "metadata": {
        "id": "bwaT8XmGwE-c"
      },
      "source": [
        "#データの用意\n"
      ]
    },
    {
      "cell_type": "code",
      "metadata": {
        "id": "67R_p6pxtt15",
        "outputId": "24b5a98a-b11d-42fa-f601-baf759adb170",
        "colab": {
          "base_uri": "https://localhost:8080/",
          "height": 401,
          "referenced_widgets": [
            "41719de1b912467585cb6ad16d44a47a",
            "a63beaac50d14fa1a2ff12b62fe76bfb",
            "c1838bd6469540b7a1cf5a53d897f766",
            "05b58c9acd1d4fe4bc795435732a1b9d",
            "70c99ba0e72a4b08ab1522c976f7a64c",
            "2834a94f552a4bcba544a44e12f1f1a2",
            "2e4f1d1d6ff041ffa8b47ddddf2cae10",
            "4d78b4a5b2eb474cbc1ef2591f9a253e",
            "a9a3d8440df8435b9e001058cce29e8e",
            "71042dbab64a4898b68195e007cd3762",
            "42f41ff78f0543e198dbd498d2d0a470",
            "30281f03f95e436a80dc44324df826da",
            "c8747f2699e545d4b2aac8d6e8b16099",
            "b03d09cb76144f5f9a2bb9ee4a1edbd6",
            "875e345324474346ab2a67ac9ee5dc86",
            "b48b85a5d92d4f779a8f7d6bc3f138b7",
            "4055ec65e0d342d3b6b3836bbf3922f5",
            "07245f176634436fa9499e80ffbf7b5b",
            "3a99578d47544db6a5822fa99d4437ed",
            "0863cedc706f481e8d8ca837af0b30dc",
            "3d3cc8b2638d4e77ad804befa12b566d",
            "9a7b2e7067104df5a65ed4ff20d2ca4a",
            "e2381bad33df4089b00e65ccfc772905",
            "884d4861b5244dbab33fbd80b8dfc200",
            "3bb1934a411b4d98a407fee90e8735eb",
            "eb563a6825d64d2d8808e6842f8009f8",
            "ffeeaa2f27324033b8beebecdc74468e",
            "73f428dbda81489cb8643fa1147a8fa7",
            "323e2d750bde4637ba74995feb3bd3e1",
            "275cb92ae72c4c8da73906f81cdef6ea",
            "75a7e46ce25b4ba1a8912442f944e348",
            "d4cb93119f2d4655840dc7067822bb30"
          ]
        }
      },
      "source": [
        "b_size=1\n",
        "transform = transforms.Compose([\n",
        "    transforms.ToTensor()\n",
        "])\n",
        "dataset = datasets.MNIST('data/mnist', train=True, download=True, transform=transform)\n",
        "data_loader = DataLoader(dataset, batch_size=b_size, shuffle=True)"
      ],
      "execution_count": null,
      "outputs": [
        {
          "output_type": "stream",
          "text": [
            "Downloading http://yann.lecun.com/exdb/mnist/train-images-idx3-ubyte.gz to data/mnist/MNIST/raw/train-images-idx3-ubyte.gz\n"
          ],
          "name": "stdout"
        },
        {
          "output_type": "display_data",
          "data": {
            "application/vnd.jupyter.widget-view+json": {
              "model_id": "41719de1b912467585cb6ad16d44a47a",
              "version_minor": 0,
              "version_major": 2
            },
            "text/plain": [
              "HBox(children=(FloatProgress(value=1.0, bar_style='info', max=1.0), HTML(value='')))"
            ]
          },
          "metadata": {
            "tags": []
          }
        },
        {
          "output_type": "stream",
          "text": [
            "Extracting data/mnist/MNIST/raw/train-images-idx3-ubyte.gz to data/mnist/MNIST/raw\n",
            "Downloading http://yann.lecun.com/exdb/mnist/train-labels-idx1-ubyte.gz to data/mnist/MNIST/raw/train-labels-idx1-ubyte.gz\n"
          ],
          "name": "stdout"
        },
        {
          "output_type": "display_data",
          "data": {
            "application/vnd.jupyter.widget-view+json": {
              "model_id": "a9a3d8440df8435b9e001058cce29e8e",
              "version_minor": 0,
              "version_major": 2
            },
            "text/plain": [
              "HBox(children=(FloatProgress(value=1.0, bar_style='info', max=1.0), HTML(value='')))"
            ]
          },
          "metadata": {
            "tags": []
          }
        },
        {
          "output_type": "stream",
          "text": [
            "Extracting data/mnist/MNIST/raw/train-labels-idx1-ubyte.gz to data/mnist/MNIST/raw\n",
            "Downloading http://yann.lecun.com/exdb/mnist/t10k-images-idx3-ubyte.gz to data/mnist/MNIST/raw/t10k-images-idx3-ubyte.gz\n",
            "\n"
          ],
          "name": "stdout"
        },
        {
          "output_type": "display_data",
          "data": {
            "application/vnd.jupyter.widget-view+json": {
              "model_id": "4055ec65e0d342d3b6b3836bbf3922f5",
              "version_minor": 0,
              "version_major": 2
            },
            "text/plain": [
              "HBox(children=(FloatProgress(value=1.0, bar_style='info', max=1.0), HTML(value='')))"
            ]
          },
          "metadata": {
            "tags": []
          }
        },
        {
          "output_type": "stream",
          "text": [
            "Extracting data/mnist/MNIST/raw/t10k-images-idx3-ubyte.gz to data/mnist/MNIST/raw\n",
            "Downloading http://yann.lecun.com/exdb/mnist/t10k-labels-idx1-ubyte.gz to data/mnist/MNIST/raw/t10k-labels-idx1-ubyte.gz\n"
          ],
          "name": "stdout"
        },
        {
          "output_type": "display_data",
          "data": {
            "application/vnd.jupyter.widget-view+json": {
              "model_id": "3bb1934a411b4d98a407fee90e8735eb",
              "version_minor": 0,
              "version_major": 2
            },
            "text/plain": [
              "HBox(children=(FloatProgress(value=1.0, bar_style='info', max=1.0), HTML(value='')))"
            ]
          },
          "metadata": {
            "tags": []
          }
        },
        {
          "output_type": "stream",
          "text": [
            "Extracting data/mnist/MNIST/raw/t10k-labels-idx1-ubyte.gz to data/mnist/MNIST/raw\n",
            "Processing...\n",
            "Done!\n"
          ],
          "name": "stdout"
        },
        {
          "output_type": "stream",
          "text": [
            "/usr/local/lib/python3.6/dist-packages/torchvision/datasets/mnist.py:469: UserWarning: The given NumPy array is not writeable, and PyTorch does not support non-writeable tensors. This means you can write to the underlying (supposedly non-writeable) NumPy array using the tensor. You may want to copy the array to protect its data or make it writeable before converting it to a tensor. This type of warning will be suppressed for the rest of this program. (Triggered internally at  /pytorch/torch/csrc/utils/tensor_numpy.cpp:141.)\n",
            "  return torch.from_numpy(parsed.astype(m[2], copy=False)).view(*s)\n"
          ],
          "name": "stderr"
        }
      ]
    },
    {
      "cell_type": "code",
      "metadata": {
        "id": "ue9QAMF_vi4o"
      },
      "source": [
        "for i,data in enumerate(data_loader):\n",
        "  break\n",
        "t_number=data[1].item()\n",
        "input=data[0][0][0].numpy().copy()"
      ],
      "execution_count": null,
      "outputs": []
    },
    {
      "cell_type": "markdown",
      "metadata": {
        "id": "Rg8eXiKTwKGi"
      },
      "source": [
        "#各種サイズ&重みの初期化"
      ]
    },
    {
      "cell_type": "code",
      "metadata": {
        "id": "yKRI3RqrwtOy"
      },
      "source": [
        "fil1_size=4\n",
        "fil1_chanel=16\n",
        "pool1_filsize=5\n",
        "\n",
        "fil2_size=3\n",
        "fil2_chanel=32\n",
        "pool2_filsize=3\n",
        "\n",
        "weight_size=32\n",
        "result_size=10\n",
        "\n",
        "epoch=10\n",
        "batch_size=1\n",
        "lr=0.002"
      ],
      "execution_count": null,
      "outputs": []
    },
    {
      "cell_type": "code",
      "metadata": {
        "id": "HShN7izEvr8A"
      },
      "source": [
        "input_size=input.shape[0]\n",
        "\n",
        "conv1_size=input_size-(fil1_size-1)\n",
        "pool1_size=conv1_size/pool1_filsize\n",
        "\n",
        "conv2_size=pool1_size-(fil2_size-1)\n",
        "pool2_size=conv2_size/pool2_filsize"
      ],
      "execution_count": null,
      "outputs": []
    },
    {
      "cell_type": "code",
      "metadata": {
        "id": "VArwfeCJ0aM-",
        "outputId": "d695ee90-0cb7-4775-87b3-fbf8f228ddc1",
        "colab": {
          "base_uri": "https://localhost:8080/",
          "height": 35
        }
      },
      "source": [
        "fil1=np.random.randn(int(fil1_chanel),int(fil1_size),int(fil1_size))\n",
        "fil2=np.random.randn(fil2_chanel,fil1_chanel,fil2_size,fil2_size)\n",
        "weight=np.random.randn(weight_size,int(result_size))\n",
        "\n",
        "dw1=np.zeros((fil1_chanel,fil1_size,fil1_size))\n",
        "dw2=np.zeros((fil2_chanel,fil1_chanel,fil2_size,fil2_size))\n",
        "dw3=np.zeros((weight_size,int(result_size)))\n",
        "\n",
        "#pool2_sub=np.zeros((fil2_chanel,int(conv2_size),int(conv2_size)))\n",
        "#print(fil1.shape)"
      ],
      "execution_count": null,
      "outputs": [
        {
          "output_type": "stream",
          "text": [
            "(16, 4, 4)\n"
          ],
          "name": "stdout"
        }
      ]
    },
    {
      "cell_type": "markdown",
      "metadata": {
        "id": "c2eRN_AXWLrY"
      },
      "source": [
        "#学習"
      ]
    },
    {
      "cell_type": "code",
      "metadata": {
        "id": "L92NLrJGXOPJ"
      },
      "source": [
        "loss_list=[]\n",
        "for e in range(10): \n",
        "  c=0\n",
        "  loss_sum=0\n",
        "  p_sum=0\n",
        "  for i,data in enumerate(data_loader):\n",
        "    \n",
        "    t_number=data[1].item()\n",
        "    input=data[0][0][0].numpy().copy()\n",
        "    conv1=np.zeros((fil1_chanel,int(conv1_size),int(conv1_size)))\n",
        "    pooling1=np.zeros((fil1_chanel,int(pool1_size),int(pool1_size)))\n",
        "    pooling1_sub=np.zeros((fil1_chanel,int(conv1_size),int(conv1_size)))\n",
        "\n",
        "    conv2=np.zeros((fil2_chanel,int(conv2_size),int(conv2_size)))\n",
        "    pooling2=np.zeros((fil2_chanel,int(pool2_size),int(pool2_size)))\n",
        "    pooling2_sub=np.zeros((fil2_chanel,int(conv2_size),int(conv2_size)))\n",
        "\n",
        "    loss,dw1,dw2,dw3,t=train(input,dw1,dw2,dw3)\n",
        "    #loss_list.append(loss.sum().item())\n",
        "    #print(\"---\"*111)\n",
        "    #print(f\"損失{loss.sum()}\")\n",
        "    #print(dw1)\n",
        "    #print(dw2)\n",
        "    #print(dw3)\n",
        "    loss_sum+=loss.sum().item()\n",
        "    p_sum+=t\n",
        "\n",
        "    if (i+1)%batch_size==0:\n",
        "      c+=1\n",
        "      #print(f\"{c}/4960/{e}\")\n",
        "      fil1=fil1-((lr*dw1)/batch_size)\n",
        "      #print(\"---\"*10)\n",
        "      fil2=fil2-((lr*dw2)/batch_size)\n",
        "      weight=weight-((lr*dw3)/batch_size)\n",
        "      #print(loss_sum)\n",
        "      dw1=np.zeros((fil1_chanel,fil1_size,fil1_size))\n",
        "      dw2=np.zeros((fil2_chanel,fil1_chanel,fil2_size,fil2_size))\n",
        "      dw3=np.zeros((weight_size,int(result_size)))\n",
        "\n",
        "\n",
        "    \n",
        "    if (i+1)%25==0:\n",
        "      #print(f\"{c}/4960/{e}\")\n",
        "      #print(f\"正解率{(100*p_sum)/25}%\")\n",
        "      loss_list.append(loss_sum)\n",
        "      loss_sum=0\n",
        "      p_sum=0\n",
        "\n",
        "    if (i+1)%100==0:\n",
        "      print(f\"{c}/4960/{e}\")\n",
        "\n",
        "    if i==4960:\n",
        "      print(f\"エポック経過:{e+1}/{epoch}\")\n",
        "      lr=lr/1.77\n",
        "      break"
      ],
      "execution_count": null,
      "outputs": []
    },
    {
      "cell_type": "markdown",
      "metadata": {
        "id": "h-v_1H3sWXJp"
      },
      "source": [
        "#損失を表示"
      ]
    },
    {
      "cell_type": "code",
      "metadata": {
        "id": "U-Gauf2wx6-U",
        "outputId": "3f7ad7d2-ce81-423c-c800-d2c6e4c11eec",
        "colab": {
          "base_uri": "https://localhost:8080/",
          "height": 320
        }
      },
      "source": [
        "plt.figure(figsize=(10,5))\n",
        "plt.plot(loss_list)\n",
        "plt.legend\n",
        "plt.show()"
      ],
      "execution_count": null,
      "outputs": [
        {
          "output_type": "display_data",
          "data": {
            "image/png": "[encoded data removed]",
            "text/plain": [
              "<Figure size 720x360 with 1 Axes>"
            ]
          },
          "metadata": {
            "tags": [],
            "needs_background": "light"
          }
        }
      ]
    },
    {
      "cell_type": "markdown",
      "metadata": {
        "id": "E-hzp7w09UDA"
      },
      "source": [
        "#第一畳み込み\n"
      ]
    },
    {
      "cell_type": "code",
      "metadata": {
        "id": "v9R1NrXZy52P"
      },
      "source": [
        "def c1(i):\n",
        "  for i in range(fil1_chanel):\n",
        "    for j in range(conv1_size):\n",
        "      for k in range(conv1_size):\n",
        "        \n",
        "        slice_1=input[j:(fil1_size+j),k:(fil1_size+k)]\n",
        "        temp=slice_1*fil1[i]\n",
        "        conv1[i][j][k]=temp.sum().item()"
      ],
      "execution_count": null,
      "outputs": []
    },
    {
      "cell_type": "markdown",
      "metadata": {
        "id": "2thVZiL29bdj"
      },
      "source": [
        "#第一プーリング"
      ]
    },
    {
      "cell_type": "code",
      "metadata": {
        "id": "UcYY7J0E0_oc"
      },
      "source": [
        "def p1():\n",
        "  for i in range(fil1_chanel):\n",
        "    for j in range(int(pool1_size)):\n",
        "      for k in range(int(pool1_size)):\n",
        "        jj=j+1\n",
        "        kk=k+1\n",
        "        temp=conv1[i]\n",
        "        slice_2=temp[pool1_filsize*j:pool1_filsize*jj,pool1_filsize*k:pool1_filsize*kk]\n",
        "        pooling1[i][j][k]=slice_2.max()\n",
        "  #print(2)"
      ],
      "execution_count": null,
      "outputs": []
    },
    {
      "cell_type": "code",
      "metadata": {
        "id": "EreZxubx-1jT"
      },
      "source": [
        "def sub1():\n",
        "  for i in range(fil1_chanel):\n",
        "    for j in range(0,int(conv1.shape[1]),pool1_filsize):\n",
        "        for k in range(0,int(conv1.shape[1]),pool1_filsize):\n",
        "          search=pooling1[i][int(j/pool1_filsize)][int(k/pool1_filsize)]\n",
        "          for jj in range(j,j+pool1_filsize,1):\n",
        "            for kk in range(k,k+pool1_filsize,1):\n",
        "              if (search==conv1[i][jj][kk]):\n",
        "                pooling1_sub[i][jj][kk]=1\n",
        " # print(3)"
      ],
      "execution_count": null,
      "outputs": []
    },
    {
      "cell_type": "markdown",
      "metadata": {
        "id": "fxQRSFgGGECG"
      },
      "source": [
        "#第二畳み込み"
      ]
    },
    {
      "cell_type": "code",
      "metadata": {
        "id": "ZDeLBZzo83aV"
      },
      "source": [
        "def c2():  \n",
        "  for i in range(fil2_chanel):\n",
        "    for ii in range(fil1_chanel):\n",
        "      temp=pooling1[ii]\n",
        "      for j in range(int(conv2_size)):\n",
        "        for k in range(int(conv2_size)):\n",
        "          slice_3=temp[j:(fil2_size+j),k:(3+k)]\n",
        "          t=slice_3*fil2[i][ii]\n",
        "          conv2[i][j][k]+=t.sum().item()\n",
        "  #print(4)"
      ],
      "execution_count": null,
      "outputs": []
    },
    {
      "cell_type": "markdown",
      "metadata": {
        "id": "c1xNELirRUJy"
      },
      "source": [
        "#第二プーリング"
      ]
    },
    {
      "cell_type": "code",
      "metadata": {
        "id": "DZIPgAo-HxTc"
      },
      "source": [
        "def p2():\n",
        "  for i in range(fil2_chanel):\n",
        "    for j in range(int(pool2_size)):\n",
        "      for k in range(int(pool2_size)):\n",
        "        jj=j+1\n",
        "        kk=k+1\n",
        "        temp=conv2[i]\n",
        "        slice_4=temp[pool2_filsize*j:pool2_filsize*jj,pool2_filsize*k:pool2_filsize*kk]\n",
        "        pooling2[i][j][k]=slice_4.max()\n",
        "  #print(pooling2)"
      ],
      "execution_count": null,
      "outputs": []
    },
    {
      "cell_type": "code",
      "metadata": {
        "id": "Du_HEhyBJcHa"
      },
      "source": [
        "def sub2():  \n",
        "  for i in range(fil2_chanel):\n",
        "    for j in range(0,int(conv2_size),fil2_size):\n",
        "        for k in range(0,int(conv2_size),fil2_size):\n",
        "          search=pooling2[i][int(j/fil2_size)][int(k/fil2_size)]\n",
        "          for jj in range(j,j+fil2_size,1):\n",
        "            for kk in range(k,k+fil2_size,1):\n",
        "              if (search==conv2[i][jj][kk]):\n",
        "                pooling2_sub[i][jj][kk]=1\n",
        "  #print(6)    "
      ],
      "execution_count": null,
      "outputs": []
    },
    {
      "cell_type": "markdown",
      "metadata": {
        "id": "hpn3Z6y2mqBm"
      },
      "source": [
        "#softmax関数の定義\n"
      ]
    },
    {
      "cell_type": "code",
      "metadata": {
        "id": "ByMp-7IzOHRB"
      },
      "source": [
        "def softmax(a):\n",
        "  a_max=max(a)\n",
        "  x=np.exp(a-a_max)\n",
        "  u=np.sum(x)\n",
        "  return x/u"
      ],
      "execution_count": null,
      "outputs": []
    },
    {
      "cell_type": "code",
      "metadata": {
        "id": "YaerdKnSr7e4"
      },
      "source": [
        "def cross(t,s):\n",
        "  #print(t.shape,s.shape)\n",
        "  temp1=np.log(s)\n",
        "  #temp2=np.ma.log(1-s)\n",
        "  return -(t*temp1)"
      ],
      "execution_count": null,
      "outputs": []
    },
    {
      "cell_type": "markdown",
      "metadata": {
        "id": "gDtFPggu21in"
      },
      "source": [
        "#全結合"
      ]
    },
    {
      "cell_type": "code",
      "metadata": {
        "id": "fsr93IVZL3Zj"
      },
      "source": [
        "def zen():\n",
        "  affine=pooling2.reshape(1,fil2_chanel)\n",
        "  #print(affine)\n",
        "  result=np.dot(affine,weight)\n",
        "  soft=softmax(result[0])\n",
        "  soft=np.where(soft==0,0.0001,soft)\n",
        "  #print(soft)\n",
        "  true=0\n",
        "  #print(f\"正解{t_number}予測{np.argmax(soft)}\")\n",
        "  if t_number==np.argmax(soft):\n",
        "    true=1\n",
        "  \n",
        "  return affine,soft,true"
      ],
      "execution_count": null,
      "outputs": []
    },
    {
      "cell_type": "markdown",
      "metadata": {
        "id": "6YZU9kEB4SeO"
      },
      "source": [
        "#誤差計算"
      ]
    },
    {
      "cell_type": "code",
      "metadata": {
        "id": "GGtcGTj1VBLr"
      },
      "source": [
        "def zen_back(affine,soft,dw3): \n",
        "  teacher=np.zeros(10)\n",
        "  teacher[t_number]=1\n",
        "  #print(soft)\n",
        "  #print(teacher)\n",
        "  loss=cross(teacher,soft)\n",
        "  #print(loss.sum().item())\n",
        "  error=(soft-teacher)\n",
        "  #print(soft)\n",
        "  #print(soft.sum())\n",
        "  #df=soft*(1-soft)\n",
        "  gamma5=error\n",
        "  gamma5=gamma5.reshape(1,10)\n",
        "  \n",
        "  affine=affine.reshape(32,1)\n",
        "  #print(affine)\n",
        "  #print(gamma5)\n",
        "  #print(dw3)\n",
        "  dw3=np.dot(affine,gamma5)  \n",
        "  #print(dw3)\n",
        "  #print(error)\n",
        "  \n",
        "  return gamma5,loss,dw3"
      ],
      "execution_count": null,
      "outputs": []
    },
    {
      "cell_type": "markdown",
      "metadata": {
        "id": "9ltV-pjTpUuE"
      },
      "source": [
        "#pooling考慮の誤差"
      ]
    },
    {
      "cell_type": "code",
      "metadata": {
        "id": "shx2wJZExsvL"
      },
      "source": [
        "def error_up1(gamma5):\n",
        "  gamma4=np.dot(weight,gamma5[0].reshape(10,1))\n",
        "  #print(gamma4)\n",
        "  for i in range(fil2_chanel):\n",
        "    for j in range(int(pool2_size)):\n",
        "      for k in range(int(pool2_size)):\n",
        "        jj=j+1\n",
        "        kk=k+1\n",
        "        target_1=gamma4[i]\n",
        "        #print(target_1)\n",
        "        temp=pooling2_sub[i]\n",
        "        slice_5=temp[pool2_filsize*j:pool2_filsize*jj,pool2_filsize*k:pool2_filsize*kk]\n",
        "        pooling2_sub[i][pool2_filsize*j:pool2_filsize*jj,pool2_filsize*k:pool2_filsize*kk]=slice_5*(target_1.item())\n",
        "  gamma3=pooling2_sub\n",
        "  #print(pooling2_sub)\n",
        "  return gamma3"
      ],
      "execution_count": null,
      "outputs": []
    },
    {
      "cell_type": "markdown",
      "metadata": {
        "id": "KPqhqT_NuNCS"
      },
      "source": [
        "#誤差計算"
      ]
    },
    {
      "cell_type": "code",
      "metadata": {
        "id": "QtYTLmtu6O0r"
      },
      "source": [
        "def conv2_back(gamma3,dw2): \n",
        "  for i in range(fil2_chanel):\n",
        "    for j in range(fil1_chanel):\n",
        "      for k in range(int(fil2_size)):#フィルタを二回移動\n",
        "        for l in range(int(fil2_size)):\n",
        "          slice_6=pooling1[j][k:int(conv2_size)+k,l:int(conv2_size)+l]\n",
        "          temp=(slice_6*gamma3[i]).sum()\n",
        "          dw2[i][j][k][l]=temp\n",
        "\n",
        "  gamma2=np.zeros((fil1_chanel,int(pool1_size),int(pool1_size)))\n",
        "  for i in range(fil1_chanel):\n",
        "    for j in range(fil2_chanel):\n",
        "      for k in range(int(pool1_size)):\n",
        "        for l in range(int(pool1_size)):\n",
        "          temp=gamma3[j]\n",
        "          flip0=np.pad(temp,(2,2),'constant')\n",
        "          slice_7=flip0[k:k+fil2_size,l:l+fil2_size]\n",
        "          f=np.flip(fil2[j][i])\n",
        "          gamma2[i][k][l]=(f*slice_7).sum()+gamma2[i][k][l]\n",
        "  #print(gamma3[0])\n",
        "  #print(\"===\"*122)\n",
        "  #print(pooling1[0])\n",
        "  #print(\"===\"*122)\n",
        "  #print(dw2[0])\n",
        "  return gamma2,dw2"
      ],
      "execution_count": null,
      "outputs": []
    },
    {
      "cell_type": "markdown",
      "metadata": {
        "id": "FqU3pmmFw6PX"
      },
      "source": [
        "#pooling考慮の誤差"
      ]
    },
    {
      "cell_type": "code",
      "metadata": {
        "id": "c5vSEWzmeh9P"
      },
      "source": [
        "def error_up2(gamma2):\n",
        "  gamma1=np.zeros((fil1_chanel,25,25))\n",
        "  for i in range(fil1_chanel):\n",
        "    for j in range(int(pool1_size)):\n",
        "      for k in range(int(pool1_size)):\n",
        "        jj=j+1 \n",
        "        kk=k+1\n",
        "        target=gamma2[i][j][k].item()\n",
        "        slice_8=pooling1_sub[i][5*j:5*jj,5*k:5*kk]\n",
        "        gamma1[i][5*j:5*jj,5*k:5*kk]=slice_8*target\n",
        "  return gamma1"
      ],
      "execution_count": null,
      "outputs": []
    },
    {
      "cell_type": "code",
      "metadata": {
        "id": "I4jxUHyJm-Vb"
      },
      "source": [
        "def conv1_back(gamma1,dw1): \n",
        "  for j in range(fil1_chanel):\n",
        "    for k in range(int(fil1_size)):#フィルタを二回移動\n",
        "      for l in range(int(fil1_size)):\n",
        "        slice_9=input[k:conv1_size+k,l:conv1_size+l]\n",
        "        dw1[j][k][l]=(slice_9*gamma1[j]).sum()\n",
        "    #print(slice_9)\n",
        "    #print(\"--\"*10)\n",
        "  #print(dw1)\n",
        "  return dw1"
      ],
      "execution_count": null,
      "outputs": []
    },
    {
      "cell_type": "code",
      "metadata": {
        "id": "ZrvD0lT1UwzQ"
      },
      "source": [
        "def train(i,d1,d2,d3):\n",
        "  \n",
        "  c1(i)\n",
        "  p1()\n",
        "  sub1()\n",
        "\n",
        "  c2()\n",
        "  p2()\n",
        "  sub2()\n",
        "\n",
        "  a,s,t=zen()\n",
        "\n",
        "  g5,loss,d3=zen_back(a,s,d3)\n",
        "  g3=error_up1(g5)\n",
        "\n",
        "  g2,d2=conv2_back(g3,d2)\n",
        "  g1=error_up2(g2)\n",
        "\n",
        "  d1=conv1_back(g1,d1)\n",
        "\n",
        "  return loss,d1,d2,d3,t"
      ],
      "execution_count": null,
      "outputs": []
    },
    {
      "cell_type": "markdown",
      "metadata": {
        "id": "lI51U8oNtiv9"
      },
      "source": [
        "#テスト用\n"
      ]
    },
    {
      "cell_type": "code",
      "metadata": {
        "id": "rqV-UCvW8jS2"
      },
      "source": [
        "loss_list=[]\n",
        "for e in range(1000): \n",
        "  loss_sum=0\n",
        "  p_sum=0\n",
        "  for i,data in enumerate(data_loader):\n",
        "    \n",
        "    t_number=data[1].item()\n",
        "    input=data[0][0][0].numpy().copy()\n",
        "    conv1=np.zeros((fil1_chanel,int(conv1_size),int(conv1_size)))\n",
        "    pooling1=np.zeros((fil1_chanel,int(pool1_size),int(pool1_size)))\n",
        "    pooling1_sub=np.zeros((fil1_chanel,int(conv1_size),int(conv1_size)))\n",
        "\n",
        "    conv2=np.zeros((fil2_chanel,int(conv2_size),int(conv2_size)))\n",
        "    pooling2=np.zeros((fil2_chanel,int(pool2_size),int(pool2_size)))\n",
        "    pooling2_sub=np.zeros((fil2_chanel,int(conv2_size),int(conv2_size)))\n",
        "\n",
        "    loss,dw1,dw2,dw3,t=train(input,dw1,dw2,dw3)\n",
        "    #loss_list.append(loss.sum().item())\n",
        "    #print(\"---\"*111)\n",
        "    #print(f\"損失{loss.sum()}\")\n",
        "    #print(dw1)\n",
        "    #print(dw2)\n",
        "    #print(dw3)\n",
        "    loss_sum+=loss.sum().item()\n",
        "    p_sum+=t\n",
        "  \n",
        "    if (i+1)%100==0:\n",
        "      print(f\"正解率{(100*p_sum)/100}%\")\n",
        "      loss_list.append(loss_sum)\n",
        "      loss_sum=0\n",
        "      p_sum=0\n",
        "\n",
        "    if i==5000:\n",
        "      break"
      ],
      "execution_count": null,
      "outputs": []
    },
    {
      "cell_type": "markdown",
      "metadata": {
        "id": "CYbqpL8uXMa0"
      },
      "source": [
        "#モデルのセーブ"
      ]
    },
    {
      "cell_type": "code",
      "metadata": {
        "id": "LwKQvK8bwMvf",
        "outputId": "852ddfd7-3709-405f-85ba-440a9d20c3da",
        "colab": {
          "base_uri": "https://localhost:8080/",
          "height": 35
        }
      },
      "source": [
        "cd drive/My\\ Drive"
      ],
      "execution_count": null,
      "outputs": [
        {
          "output_type": "stream",
          "text": [
            "/content/drive/My Drive\n"
          ],
          "name": "stdout"
        }
      ]
    },
    {
      "cell_type": "code",
      "metadata": {
        "id": "dWoXv6kMwST1"
      },
      "source": [
        "with open(\"models/fil1_pkl\",\"wb\") as f1:\n",
        "  pickle.dump(fil1,f1)\n",
        "with open(\"models/fil2_.pkl\",\"wb\") as f2:\n",
        "  pickle.dump(fil2,f2)\n",
        "with open(\"models/weight_.pkl\",\"wb\") as w:\n",
        "  pickle.dump(weight,w)\n",
        "with open(\"models/loss_.pkl\",\"wb\") as l:\n",
        "  pickle.dump(loss_list,l)"
      ],
      "execution_count": null,
      "outputs": []
    },
    {
      "cell_type": "code",
      "metadata": {
        "id": "iIVIbZZNxFRS"
      },
      "source": [
        "with open(\"models/fil1_0819.pkl\",\"rb\") as f1:\n",
        "  fil1=pickle.load(f1)\n",
        "with open(\"models/fil2_0819.pkl\",\"rb\") as f2:\n",
        "  fil2=pickle.load(f2)\n",
        "with open(\"models/weight_0819.pkl\",\"rb\") as w:\n",
        "  weight=pickle.load(w)\n",
        "with open(\"models/loss_0819.pkl\",\"rb\") as l:\n",
        "  loss_list=pickle.load(l)"
      ],
      "execution_count": null,
      "outputs": []
    }
  ]
}