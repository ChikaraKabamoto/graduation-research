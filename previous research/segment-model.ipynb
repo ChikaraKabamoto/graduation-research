{
  "nbformat": 4,
  "nbformat_minor": 0,
  "metadata": {
    "colab": {
      "name": "セグメントモデル.ipynb",
      "provenance": []
    },
    "kernelspec": {
      "name": "python3",
      "display_name": "Python 3"
    },
    "accelerator": "GPU"
  },
  "cells": [
    {
      "cell_type": "code",
      "metadata": {
        "id": "qM-VObov5q9U",
        "outputId": "87966882-093c-4427-a31a-c1b5415cef81",
        "colab": {
          "base_uri": "https://localhost:8080/",
          "height": 35
        }
      },
      "source": [
        "%cd drive/My\\ Drive/segment_geter"
      ],
      "execution_count": null,
      "outputs": [
        {
          "output_type": "stream",
          "text": [
            "/content/drive/My Drive/segment_geter\n"
          ],
          "name": "stdout"
        }
      ]
    },
    {
      "cell_type": "code",
      "metadata": {
        "id": "Lo2FLKHbXOG5",
        "outputId": "65193510-d243-4600-d6be-2de469f0da19",
        "colab": {
          "base_uri": "https://localhost:8080/",
          "height": 128
        }
      },
      "source": [
        "!pip install ninja"
      ],
      "execution_count": null,
      "outputs": [
        {
          "output_type": "stream",
          "text": [
            "Collecting ninja\n",
            "\u001b[?25l  Downloading https://files.pythonhosted.org/packages/f6/27/41b8a846496451ea9f103bf8e1d0d1b010d1180c30d84a87433ec5d7f88e/ninja-1.10.0.post1-py3-none-manylinux1_x86_64.whl (102kB)\n",
            "\r\u001b[K     |███▏                            | 10kB 20.3MB/s eta 0:00:01\r\u001b[K     |██████▍                         | 20kB 2.4MB/s eta 0:00:01\r\u001b[K     |█████████▌                      | 30kB 3.1MB/s eta 0:00:01\r\u001b[K     |████████████▊                   | 40kB 2.6MB/s eta 0:00:01\r\u001b[K     |████████████████                | 51kB 3.1MB/s eta 0:00:01\r\u001b[K     |███████████████████             | 61kB 3.4MB/s eta 0:00:01\r\u001b[K     |██████████████████████▎         | 71kB 3.7MB/s eta 0:00:01\r\u001b[K     |█████████████████████████▌      | 81kB 4.1MB/s eta 0:00:01\r\u001b[K     |████████████████████████████▋   | 92kB 4.3MB/s eta 0:00:01\r\u001b[K     |███████████████████████████████▉| 102kB 4.3MB/s eta 0:00:01\r\u001b[K     |████████████████████████████████| 112kB 4.3MB/s \n",
            "\u001b[?25hInstalling collected packages: ninja\n",
            "Successfully installed ninja-1.10.0.post1\n"
          ],
          "name": "stdout"
        }
      ]
    },
    {
      "cell_type": "code",
      "metadata": {
        "id": "TZY5DrqttAUE",
        "outputId": "12ceb918-d2f5-4a42-868e-359edc332aba",
        "colab": {
          "base_uri": "https://localhost:8080/",
          "height": 107
        }
      },
      "source": [
        "!python simple_extractor.py --dataset atr --model-restore exp-schp-201908301523-atr.pth --input-dir data/LIP/img --output-dir data/out/"
      ],
      "execution_count": null,
      "outputs": [
        {
          "output_type": "stream",
          "text": [
            "Evaluating total class number 18 with ['Background', 'Hat', 'Hair', 'Sunglasses', 'Upper-clothes', 'Skirt', 'Pants', 'Dress', 'Belt', 'Left-shoe', 'Right-shoe', 'Face', 'Left-leg', 'Right-leg', 'Left-arm', 'Right-arm', 'Bag', 'Scarf']\n",
            "data/LIP/img\n",
            "[512, 512]\n",
            "100% 3/3 [00:00<00:00,  5.60it/s]\n"
          ],
          "name": "stdout"
        }
      ]
    },
    {
      "cell_type": "code",
      "metadata": {
        "id": "gVCdtNPA2yXI",
        "outputId": "9ac5baad-3aa4-4e6c-8799-6371e849e66e",
        "colab": {
          "base_uri": "https://localhost:8080/",
          "height": 110
        }
      },
      "source": [
        "!python simple_extractor.py --dataset lip --model-restore exp-schp-201908261155-lip.pth --input-dir data/LIP/img --output-dir data/out/"
      ],
      "execution_count": null,
      "outputs": [
        {
          "output_type": "stream",
          "text": [
            "Evaluating total class number 20 with ['Background', 'Hat', 'Hair', 'Glove', 'Sunglasses', 'Upper-clothes', 'Dress', 'Coat', 'Socks', 'Pants', 'Jumpsuits', 'Scarf', 'Skirt', 'Face', 'Left-arm', 'Right-arm', 'Left-leg', 'Right-leg', 'Left-shoe', 'Right-shoe']\n",
            "data/LIP/img\n",
            "[512, 512]\n",
            "100% 5/5 [00:05<00:00,  1.05s/it]\n"
          ],
          "name": "stdout"
        }
      ]
    }
  ]
}