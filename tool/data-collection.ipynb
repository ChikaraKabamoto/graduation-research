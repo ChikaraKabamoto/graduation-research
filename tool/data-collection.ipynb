{
  "nbformat": 4,
  "nbformat_minor": 0,
  "metadata": {
    "colab": {
      "name": "データ収集.ipynb",
      "provenance": [],
      "collapsed_sections": []
    },
    "kernelspec": {
      "name": "python3",
      "display_name": "Python 3"
    }
  },
  "cells": [
    {
      "cell_type": "code",
      "metadata": {
        "id": "AFNe80068_4h"
      },
      "source": [
        "import shutil"
      ],
      "execution_count": null,
      "outputs": []
    },
    {
      "cell_type": "code",
      "metadata": {
        "id": "ps04WV5r9fm2",
        "outputId": "32d0c637-d197-4290-e90e-2573d4dc7f98",
        "colab": {
          "base_uri": "https://localhost:8080/",
          "height": 34
        }
      },
      "source": [
        "%cd drive/My Drive"
      ],
      "execution_count": null,
      "outputs": [
        {
          "output_type": "stream",
          "text": [
            "/content/drive/My Drive\n"
          ],
          "name": "stdout"
        }
      ]
    },
    {
      "cell_type": "markdown",
      "metadata": {
        "id": "qegl-Yg_CRPo"
      },
      "source": [
        "# **ルートの指定**"
      ]
    },
    {
      "cell_type": "code",
      "metadata": {
        "id": "sQ6S8UyuCJL5"
      },
      "source": [
        "folder=767\n",
        "before_image=1\n",
        "after_image=225"
      ],
      "execution_count": null,
      "outputs": []
    },
    {
      "cell_type": "markdown",
      "metadata": {
        "id": "6MqHnXyyAW26"
      },
      "source": [
        "# **target無し版**<br>\n",
        "\n",
        "\n"
      ]
    },
    {
      "cell_type": "code",
      "metadata": {
        "id": "HjG88e3nAMNj",
        "outputId": "ab5b35df-a61f-4829-9913-ef7c0ec3bbef",
        "colab": {
          "base_uri": "https://localhost:8080/",
          "height": 37
        }
      },
      "source": [
        "shutil.copy(f\"train/{folder}/{before_image}.jpg\",f\"persons/person/{after_image}.jpg\")\n",
        "shutil.copy(f\"train/{folder}/{before_image}/segment_vis.png\",f\"segmentations/segmentation/{after_image}.jpg\")\n",
        "shutil.copy(f\"train/{folder}/target.jpg\",f\"cloths/cloth/{after_image}.jpg\")"
      ],
      "execution_count": null,
      "outputs": [
        {
          "output_type": "execute_result",
          "data": {
            "application/vnd.google.colaboratory.intrinsic": {
              "type": "string"
            },
            "text/plain": [
              "'cloths/cloth/224.jpg'"
            ]
          },
          "metadata": {
            "tags": []
          },
          "execution_count": 266
        }
      ]
    },
    {
      "cell_type": "markdown",
      "metadata": {
        "id": "5HhcmKkdDA6A"
      },
      "source": [
        "# **target有り版**"
      ]
    },
    {
      "cell_type": "code",
      "metadata": {
        "id": "ShJG7BYEDcec",
        "outputId": "dc351f20-3762-423a-c038-5199423b4c57",
        "colab": {
          "base_uri": "https://localhost:8080/",
          "height": 37
        }
      },
      "source": [
        "shutil.copy(f\"train/{folder}/{before_image}_target.jpg\",f\"persons/person/{after_image}.jpg\")\n",
        "shutil.copy(f\"train/{folder}/{before_image}_target/segment_vis.png\",f\"segmentations/segmentation/{after_image}.jpg\")\n",
        "shutil.copy(f\"train/{folder}/target.jpg\",f\"cloths/cloth/{after_image}.jpg\")"
      ],
      "execution_count": null,
      "outputs": [
        {
          "output_type": "execute_result",
          "data": {
            "application/vnd.google.colaboratory.intrinsic": {
              "type": "string"
            },
            "text/plain": [
              "'cloths/cloth/225.jpg'"
            ]
          },
          "metadata": {
            "tags": []
          },
          "execution_count": 268
        }
      ]
    }
  ]
}